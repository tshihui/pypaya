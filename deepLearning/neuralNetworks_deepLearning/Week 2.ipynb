{
 "cells": [
  {
   "cell_type": "code",
   "execution_count": 1,
   "metadata": {},
   "outputs": [],
   "source": [
    "import numpy as np\n",
    "import time"
   ]
  },
  {
   "cell_type": "code",
   "execution_count": 19,
   "metadata": {},
   "outputs": [
    {
     "name": "stdout",
     "output_type": "stream",
     "text": [
      "Np dot time: 4.544973373413086 ms\n",
      "249724.05477933353\n",
      "249724.05477933097\n",
      "For loop time: 485.1949214935303 ms\n"
     ]
    }
   ],
   "source": [
    "a = np.random.rand(1000000)\n",
    "b = np.random.rand(1000000)\n",
    "\n",
    "tic = time.time()\n",
    "ans = np.dot(a, b)\n",
    "toc = time.time()\n",
    "print('Np dot time: {}'.format((toc-tic)*1000), 'ms')\n",
    "print(ans)\n",
    "\n",
    "ans2 = 0\n",
    "tic2 = time.time()\n",
    "for i in range(len(a)):\n",
    "    ans2 += a[i]*b[i]\n",
    "toc2 = time.time()\n",
    "print(ans2)\n",
    "print('For loop time: {}'.format((toc2-tic2) * 1000), 'ms')"
   ]
  },
  {
   "cell_type": "code",
   "execution_count": 5,
   "metadata": {},
   "outputs": [
    {
     "data": {
      "text/plain": [
       "250209.4490477211"
      ]
     },
     "execution_count": 5,
     "metadata": {},
     "output_type": "execute_result"
    }
   ],
   "source": []
  },
  {
   "cell_type": "code",
   "execution_count": null,
   "metadata": {},
   "outputs": [],
   "source": []
  }
 ],
 "metadata": {
  "kernelspec": {
   "display_name": "Python 3",
   "language": "python",
   "name": "python3"
  },
  "language_info": {
   "codemirror_mode": {
    "name": "ipython",
    "version": 3
   },
   "file_extension": ".py",
   "mimetype": "text/x-python",
   "name": "python",
   "nbconvert_exporter": "python",
   "pygments_lexer": "ipython3",
   "version": "3.7.3"
  }
 },
 "nbformat": 4,
 "nbformat_minor": 2
}
