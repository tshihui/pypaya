{
 "cells": [
  {
   "cell_type": "markdown",
   "id": "fa28ef42",
   "metadata": {},
   "source": [
    "## Self-Checks"
   ]
  },
  {
   "cell_type": "code",
   "execution_count": 1,
   "id": "594f1f04",
   "metadata": {},
   "outputs": [
    {
     "name": "stdout",
     "output_type": "stream",
     "text": [
      "27\n",
      "a\n"
     ]
    }
   ],
   "source": [
    "#4.3\n",
    "print(max([14,27,5,3]))\n",
    "print(min('orange'))"
   ]
  },
  {
   "cell_type": "code",
   "execution_count": 4,
   "id": "931b62e3",
   "metadata": {},
   "outputs": [
    {
     "name": "stdout",
     "output_type": "stream",
     "text": [
      "2 1 4 2 2 5 3 5 2 1 "
     ]
    }
   ],
   "source": [
    "import random\n",
    "\n",
    "for roll in range(10):\n",
    "    print(random.randrange(1,7), end=' ')"
   ]
  },
  {
   "cell_type": "code",
   "execution_count": 7,
   "id": "3e5c9eb4",
   "metadata": {},
   "outputs": [
    {
     "name": "stdout",
     "output_type": "stream",
     "text": [
      "T T H H H T H H H H T T T T T H H T T H "
     ]
    }
   ],
   "source": [
    "import random\n",
    "for i in range(20):\n",
    "    print('H' if random.randrange(0,2) == 1 else 'T', end=' ')"
   ]
  },
  {
   "cell_type": "code",
   "execution_count": 9,
   "id": "8dae6063",
   "metadata": {},
   "outputs": [
    {
     "name": "stdout",
     "output_type": "stream",
     "text": [
      "('Sue', [89, 94, 85])\n",
      "Name is Sue\n",
      "Grades are [89, 94, 85]\n"
     ]
    }
   ],
   "source": [
    "student = ('Sue', [89, 94, 85])\n",
    "print(student)\n",
    "name, grades = student\n",
    "print('Name is', name)\n",
    "print('Grades are', grades)"
   ]
  },
  {
   "cell_type": "code",
   "execution_count": 14,
   "id": "e5b0bca3",
   "metadata": {},
   "outputs": [
    {
     "name": "stdout",
     "output_type": "stream",
     "text": [
      "2.0\n",
      "1.8000000000000007\n"
     ]
    }
   ],
   "source": [
    "import math\n",
    "print(9.8//4.0)\n",
    "print(math.fmod(9.8, 4.0))"
   ]
  },
  {
   "cell_type": "code",
   "execution_count": 18,
   "id": "baebe05d",
   "metadata": {},
   "outputs": [],
   "source": [
    "def average(*args):\n",
    "    print(args)\n",
    "    return sum(args)/len(args)"
   ]
  },
  {
   "cell_type": "code",
   "execution_count": 19,
   "id": "81645de8",
   "metadata": {},
   "outputs": [
    {
     "name": "stdout",
     "output_type": "stream",
     "text": [
      "(3, 4, 5, 6)\n"
     ]
    },
    {
     "data": {
      "text/plain": [
       "4.5"
      ]
     },
     "execution_count": 19,
     "metadata": {},
     "output_type": "execute_result"
    }
   ],
   "source": [
    "average(3,4,5,6)"
   ]
  },
  {
   "cell_type": "code",
   "execution_count": 21,
   "id": "8c16025c",
   "metadata": {},
   "outputs": [
    {
     "name": "stdout",
     "output_type": "stream",
     "text": [
      "(2, 3, 4, 5, 6)\n"
     ]
    },
    {
     "data": {
      "text/plain": [
       "4.0"
      ]
     },
     "execution_count": 21,
     "metadata": {},
     "output_type": "execute_result"
    }
   ],
   "source": [
    "average(*[2,3,4,5,6]) # * unpacks the iterable"
   ]
  },
  {
   "cell_type": "code",
   "execution_count": 22,
   "id": "a468bc86",
   "metadata": {},
   "outputs": [],
   "source": [
    "def calculate_product(*args):\n",
    "    prod = 1\n",
    "    for a in args:\n",
    "        prod *= a\n",
    "        \n",
    "    return prod"
   ]
  },
  {
   "cell_type": "code",
   "execution_count": 23,
   "id": "7cd299a1",
   "metadata": {},
   "outputs": [
    {
     "data": {
      "text/plain": [
       "6000"
      ]
     },
     "execution_count": 23,
     "metadata": {},
     "output_type": "execute_result"
    }
   ],
   "source": [
    "calculate_product(10,20,30)"
   ]
  },
  {
   "cell_type": "code",
   "execution_count": 24,
   "id": "1766de4f",
   "metadata": {},
   "outputs": [
    {
     "data": {
      "text/plain": [
       "15"
      ]
     },
     "execution_count": 24,
     "metadata": {},
     "output_type": "execute_result"
    }
   ],
   "source": [
    "calculate_product(*range(1,6,2))"
   ]
  },
  {
   "cell_type": "code",
   "execution_count": 25,
   "id": "a4df64e5",
   "metadata": {},
   "outputs": [
    {
     "data": {
      "text/plain": [
       "Decimal('6.25')"
      ]
     },
     "execution_count": 25,
     "metadata": {},
     "output_type": "execute_result"
    }
   ],
   "source": [
    "import decimal as dec\n",
    "\n",
    "dec.Decimal(2.5) ** 2"
   ]
  },
  {
   "cell_type": "code",
   "execution_count": 26,
   "id": "30fee038",
   "metadata": {},
   "outputs": [
    {
     "name": "stdout",
     "output_type": "stream",
     "text": [
      "id:  140440739265136\n",
      "id:  4313656128\n"
     ]
    }
   ],
   "source": [
    "width = 15.5\n",
    "print('id: ', id(width))\n",
    "\n",
    "width = 16\n",
    "print('id: ', id(width))"
   ]
  },
  {
   "cell_type": "code",
   "execution_count": 39,
   "id": "ce9ebe8d",
   "metadata": {},
   "outputs": [
    {
     "name": "stdout",
     "output_type": "stream",
     "text": [
      "pvar: 177.44\n",
      "pstd: 13.32066064427737\n",
      "sample var: 221.8\n",
      "sample std: 14.892951352905172\n",
      "pvar: 86916.3856\n",
      "pstd: 294.8158503201617\n",
      "sample var: 88690.1893877551\n",
      "sample std: 297.8089813752351\n"
     ]
    }
   ],
   "source": [
    "import statistics\n",
    "import random\n",
    "\n",
    "nums = [19,3,5,21,40]\n",
    "print('pvar:', statistics.pvariance(nums))\n",
    "print('pstd:', statistics.pstdev(nums))\n",
    "print('sample var:', statistics.variance(nums))\n",
    "print('sample std:', statistics.stdev(nums))\n",
    "\n",
    "nums = [random.randrange(0, 1000) for x in range(50)]\n",
    "print('pvar:', statistics.pvariance(nums))\n",
    "print('pstd:', statistics.pstdev(nums))\n",
    "print('sample var:', statistics.variance(nums))\n",
    "print('sample std:', statistics.stdev(nums))"
   ]
  },
  {
   "cell_type": "code",
   "execution_count": 37,
   "id": "02d87b5e",
   "metadata": {},
   "outputs": [
    {
     "data": {
      "text/plain": [
       "[749,\n",
       " 908,\n",
       " 773,\n",
       " 302,\n",
       " 270,\n",
       " 752,\n",
       " 912,\n",
       " 164,\n",
       " 508,\n",
       " 505,\n",
       " 34,\n",
       " 334,\n",
       " 846,\n",
       " 937,\n",
       " 200,\n",
       " 78,\n",
       " 522,\n",
       " 781,\n",
       " 688,\n",
       " 141]"
      ]
     },
     "execution_count": 37,
     "metadata": {},
     "output_type": "execute_result"
    }
   ],
   "source": [
    "[random.randrange(0, 1000) for x in range(20)]"
   ]
  },
  {
   "cell_type": "markdown",
   "id": "fa53685d",
   "metadata": {},
   "source": [
    "## Exercises"
   ]
  },
  {
   "cell_type": "code",
   "execution_count": 40,
   "id": "f862e3f0",
   "metadata": {},
   "outputs": [],
   "source": [
    "# 4.1 else clause\n"
   ]
  },
  {
   "cell_type": "code",
   "execution_count": 41,
   "id": "dadb1037",
   "metadata": {},
   "outputs": [],
   "source": [
    "# 4.2 function-call stack\n",
    "# memory error"
   ]
  },
  {
   "cell_type": "code",
   "execution_count": 42,
   "id": "c335fde3",
   "metadata": {},
   "outputs": [
    {
     "name": "stdout",
     "output_type": "stream",
     "text": [
      "the cube of 2 is  None\n"
     ]
    }
   ],
   "source": [
    "# 4.3 what's wrong with this code?\n",
    "# there's no return statement hence function will return None\n",
    "def cube(x):\n",
    "    \"\"\"Calculate the cube of x.\"\"\"\n",
    "    x ** 3 \n",
    "print('the cube of 2 is ', cube(2))"
   ]
  },
  {
   "cell_type": "code",
   "execution_count": 43,
   "id": "27e68059",
   "metadata": {},
   "outputs": [
    {
     "data": {
      "text/plain": [
       "50"
      ]
     },
     "execution_count": 43,
     "metadata": {},
     "output_type": "execute_result"
    }
   ],
   "source": [
    "# 4.4 what does this code do?\n",
    "def mystery(x):\n",
    "    y = 0\n",
    "    for value in x:\n",
    "        y += value ** 2\n",
    "    return y\n",
    "\n",
    "# this function calculates the sum of square of all values given\n",
    "\n",
    "mystery([3,4,5])"
   ]
  },
  {
   "cell_type": "code",
   "execution_count": 60,
   "id": "6a1af1e8",
   "metadata": {},
   "outputs": [
    {
     "name": "stdout",
     "output_type": "stream",
     "text": [
      "Seconds since 05:10:53 = 18653\n"
     ]
    }
   ],
   "source": [
    "# 4.5 fill in the missing code?\n",
    "def seconds_since_midnight(hour, minute, second):\n",
    "    hour_in_seconds = hour * 60 * 60 \n",
    "    minute_in_seconds = minute * 60\n",
    "    return hour_in_seconds + minute_in_seconds + second\n",
    "\n",
    "hour = 5\n",
    "minute = 10\n",
    "seconds = 53\n",
    "print(f'Seconds since {hour:02d}:{minute:02d}:{seconds:02d} = {seconds_since_midnight(hour, minute, seconds)}')"
   ]
  },
  {
   "cell_type": "code",
   "execution_count": 66,
   "id": "2f9c5a0d",
   "metadata": {},
   "outputs": [
    {
     "data": {
      "text/plain": [
       "3.8"
      ]
     },
     "execution_count": 66,
     "metadata": {},
     "output_type": "execute_result"
    }
   ],
   "source": [
    "# 4.6 modified average function\n",
    "def average(num1, *args):\n",
    "    total = num1\n",
    "    for num in args:\n",
    "        total += num\n",
    "    return total/(len(args)+1)\n",
    "\n",
    "# average()\n",
    "average(3,4,5,6,1)"
   ]
  },
  {
   "cell_type": "code",
   "execution_count": 71,
   "id": "48e62679",
   "metadata": {},
   "outputs": [],
   "source": [
    "# 4.7 date & time\n",
    "import datetime\n",
    "def date_and_time():\n",
    "    print(datetime.datetime.today())"
   ]
  },
  {
   "cell_type": "code",
   "execution_count": 72,
   "id": "25d6eace",
   "metadata": {},
   "outputs": [
    {
     "name": "stdout",
     "output_type": "stream",
     "text": [
      "2023-01-08 12:25:46.224916\n"
     ]
    }
   ],
   "source": [
    "date_and_time()"
   ]
  },
  {
   "cell_type": "code",
   "execution_count": 80,
   "id": "2f06758c",
   "metadata": {},
   "outputs": [
    {
     "name": "stdout",
     "output_type": "stream",
     "text": [
      "14.0, 13.6, 13.56, 13.564\n"
     ]
    }
   ],
   "source": [
    "# 4.8  rounding numbers\n",
    "num = 13.56449\n",
    "print(round(num, 0),\n",
    "     round(num, 1),\n",
    "     round(num, 2),\n",
    "     round(num, 3), sep=', ')"
   ]
  },
  {
   "cell_type": "code",
   "execution_count": 86,
   "id": "f853adb5",
   "metadata": {},
   "outputs": [
    {
     "data": {
      "text/plain": [
       "392.0"
      ]
     },
     "execution_count": 86,
     "metadata": {},
     "output_type": "execute_result"
    }
   ],
   "source": [
    "# 4.9 temperature conversion\n",
    "def c_to_f(celsius):\n",
    "    return (9/5) * celsius + 32\n",
    "\n",
    "c_to_f(200)"
   ]
  },
  {
   "cell_type": "code",
   "execution_count": 107,
   "id": "ef6d0c70",
   "metadata": {},
   "outputs": [],
   "source": [
    "# 4.10 guess the number\n",
    "import random\n",
    "\n",
    "def guess_the_number():\n",
    "    replay = 'Y'\n",
    "\n",
    "    while replay == 'Y':\n",
    "        num = random.randrange(1,1001)\n",
    "        guessNum = int(input('Guess my number between 1 and 1000 with the fewest guesses: '))\n",
    "        while guessNum != num:\n",
    "            if guessNum > num:\n",
    "                guessNum = int(input('Too high. Try again.\\n'))\n",
    "            else:\n",
    "                guessNum = int(input('Too low. Try again.\\n'))\n",
    "                \n",
    "                \n",
    "        print('Congratulations. You guessed the number!')\n",
    "        replay = input('Y if play again, N to quit.\\n')\n"
   ]
  },
  {
   "cell_type": "code",
   "execution_count": 108,
   "id": "4140143a",
   "metadata": {
    "scrolled": true
   },
   "outputs": [
    {
     "name": "stdout",
     "output_type": "stream",
     "text": [
      "Guess my number between 1 and 1000 with the fewest guesses: 500\n",
      "Too low. Try again.\n",
      "750\n",
      "Too low. Try again.\n",
      "850\n",
      "Too low. Try again.\n",
      "950\n",
      "Too high. Try again.\n",
      "900\n",
      "Too low. Try again.\n",
      "925\n",
      "Too low. Try again.\n",
      "940\n",
      "Too low. Try again.\n",
      "945\n",
      "Too high. Try again.\n",
      "944\n",
      "Too high. Try again.\n",
      "943\n",
      "Too high. Try again.\n",
      "942\n",
      "Congratulations. You guessed the number!\n",
      "Y if play again, N to quit.\n",
      "N\n"
     ]
    }
   ],
   "source": [
    "guess_the_number()"
   ]
  },
  {
   "cell_type": "code",
   "execution_count": 114,
   "id": "3892570e",
   "metadata": {},
   "outputs": [],
   "source": [
    "# 4.11 guess the number modification\n",
    "# 4.10 guess the number\n",
    "import random\n",
    "\n",
    "def guess_the_number2():\n",
    "    replay = 'Y'\n",
    "    counter = 0\n",
    "\n",
    "    while replay == 'Y':\n",
    "        num = random.randrange(1,1001)\n",
    "        guessNum = int(input('Guess my number between 1 and 1000 with the fewest guesses: '))\n",
    "        counter = 1\n",
    "        while guessNum != num:\n",
    "            if guessNum > num:\n",
    "                guessNum = int(input('Too high. Try again.\\n'))\n",
    "            else:\n",
    "                guessNum = int(input('Too low. Try again.\\n'))\n",
    "            counter += 1\n",
    "                \n",
    "        print('Congratulations. You guessed the number!')\n",
    "        if counter <=10:\n",
    "            print('Either you know the secret or you got lucky!')\n",
    "        else:\n",
    "            print('You should be able to do better!')\n",
    "        replay = input('Y if play again, N to quit.\\n')\n"
   ]
  },
  {
   "cell_type": "code",
   "execution_count": 115,
   "id": "5a31d81b",
   "metadata": {
    "scrolled": true
   },
   "outputs": [
    {
     "name": "stdout",
     "output_type": "stream",
     "text": [
      "Guess my number between 1 and 1000 with the fewest guesses: 500\n",
      "Too high. Try again.\n",
      "250\n",
      "Too low. Try again.\n",
      "375\n",
      "Too low. Try again.\n",
      "435\n",
      "Too high. Try again.\n",
      "400\n",
      "Too low. Try again.\n",
      "420\n",
      "Too high. Try again.\n",
      "410\n",
      "Too high. Try again.\n",
      "405\n",
      "Too high. Try again.\n",
      "403\n",
      "Congratulations. You guessed the number!\n",
      "Either you know the secret or you got lucky!\n",
      "Y if play again, N to quit.\n",
      "N\n"
     ]
    }
   ],
   "source": [
    "guess_the_number2()"
   ]
  },
  {
   "cell_type": "code",
   "execution_count": 138,
   "id": "7baa5a10",
   "metadata": {},
   "outputs": [],
   "source": [
    "# 4.12 simulation: the tortoise and the hare\n",
    "import random\n",
    "def tortoise():\n",
    "    i = random.randint(1,10)\n",
    "    if 1 <= i <= 5:\n",
    "        play = 3\n",
    "    elif 6 <= i <= 7:\n",
    "        play = -6\n",
    "    else:\n",
    "        play = 1\n",
    "\n",
    "    return play\n",
    "\n",
    "def hare():\n",
    "    i = random.randint(1,10)\n",
    "    if 1 <= i <= 2:\n",
    "        play = 0\n",
    "    elif 3 <= i <= 4:\n",
    "        play = 9\n",
    "    elif i == 5:\n",
    "        play = -12\n",
    "    elif 6 <= i <= 8:\n",
    "        play = 1\n",
    "    else:\n",
    "        play = -2\n",
    "    \n",
    "    return play\n",
    "    \n",
    "def tortoise_hare():\n",
    "    print('BANG')\n",
    "    print(\"AND THEY'RE OFF!\")\n",
    "    \n",
    "    stepHare = 0\n",
    "    stepTortoise = 0\n",
    "    for i in range(70):\n",
    "        stepHare += hare()\n",
    "        stepTortoise += tortoise()\n",
    "        if stepHare < stepTortoise:\n",
    "            print(' '*(stepHare-1), 'H', ' '*(stepTortoise-1), 'T', ' '*(70-stepTortoise-1), '|', sep='')\n",
    "        elif stepHare > stepTortoise:\n",
    "            print(' '*(stepTortoise-1), 'T', ' '*(stepHare-1), 'H', ' '*(70-stepHare-1), '|', sep='')\n",
    "        else:\n",
    "            print(' '*(stepTortoise-1), 'OUCH!!!', ' '*(70-stepTortoise-1), sep='')\n",
    "        \n",
    "        if stepHare >= 70 or stepTortoise >= 70:\n",
    "            if stepHare == stepTortoise:\n",
    "                print(\"It's a tie.\")\n",
    "            elif stepHare > stepTortoise:\n",
    "                print('Hare wins. Yuch.')\n",
    "                break\n",
    "            elif stepTortoise > stepHare:\n",
    "                print('TORTOISE WINS!!! YAY!!!')\n",
    "                break"
   ]
  },
  {
   "cell_type": "code",
   "execution_count": 147,
   "id": "3b28bf02",
   "metadata": {},
   "outputs": [
    {
     "name": "stdout",
     "output_type": "stream",
     "text": [
      "BANG\n",
      "AND THEY'RE OFF!\n",
      "HT                                                                    |\n",
      "H T                                                                   |\n",
      "H  T                                                                  |\n",
      "H     T                                                               |\n",
      "H        T                                                            |\n",
      "H  T                                                                  |\n",
      "H     T                                                               |\n",
      "T      H                                                              |\n",
      "T               H                                                     |\n",
      "T             H                                                       |\n",
      "T             H                                                       |\n",
      "T           H                                                         |\n",
      " T            H                                                        |\n",
      "  T          H                                                          |\n",
      "H   T                                                                 |\n",
      "H      T                                                              |\n",
      "HT                                                                    |\n",
      "TH                                                                       |\n",
      "OUCH!!!                                                                       \n",
      "T      H                                                              |\n",
      "T       H                                                             |\n",
      "T     H                                                               |\n",
      "T     H                                                               |\n",
      "T     H                                                               |\n",
      "T              H                                                      |\n",
      "   T            H                                                        |\n",
      "TH                                                                    |\n",
      "T         H                                                           |\n",
      " T          H                                                          |\n",
      "T           H                                                         |\n",
      "T            H                                                        |\n",
      "T            H                                                        |\n",
      "TH                                                                    |\n",
      "TH                                                                      |\n",
      "TH                                                                        |\n",
      "HT                                                                      |\n",
      "H T                                                                   |\n",
      "H    T                                                                |\n",
      "HT                                                                      |\n",
      "H T                                                                   |\n",
      "  T      H                                                              |\n",
      "T               H                                                     |\n",
      "T                        H                                            |\n",
      "  T                        H                                            |\n",
      "   T                        H                                            |\n",
      "T                         H                                           |\n",
      "T                       H                                             |\n",
      "   T                        H                                            |\n",
      "      T                      H                                              |\n",
      "         T                       H                                             |\n",
      "          T                     H                                               |\n",
      "           T                              H                                      |\n",
      "              T                              H                                      |\n",
      "                 T                  H                                                  |\n",
      "           T                           H                                         |\n",
      "     T                            H                                        |\n",
      "      T                          H                                          |\n",
      "         T                        H                                            |\n",
      "            T                                 H                                   |\n",
      "               T                                 H                                   |\n",
      "         T                     H                                               |\n",
      "            T                   H                                                 |\n",
      "      T                   H                                                 |\n",
      "       H         T                                                           |\n",
      "   T       H                                                             |\n",
      "     H      T                                                              |\n",
      "         T              H                                                      |\n",
      "            T               H                                                     |\n",
      "               T                H                                                    |\n",
      "    H                  T                                                  |\n"
     ]
    }
   ],
   "source": [
    "tortoise_hare()"
   ]
  },
  {
   "cell_type": "code",
   "execution_count": 150,
   "id": "cb5f2c0c",
   "metadata": {},
   "outputs": [
    {
     "data": {
      "text/plain": [
       "25200"
      ]
     },
     "execution_count": 150,
     "metadata": {},
     "output_type": "execute_result"
    }
   ],
   "source": [
    "# 4.13 Arbitrary Argument List\n",
    "def product(intlist):\n",
    "    result = 1\n",
    "    for i in intlist:\n",
    "        result *= i\n",
    "    return result\n",
    "\n",
    "product([1,2,3,5,6,7,2,10])"
   ]
  },
  {
   "cell_type": "code",
   "execution_count": 171,
   "id": "525dc2cc",
   "metadata": {},
   "outputs": [],
   "source": [
    "# 4.14 Computer-assisted Instruction\n",
    "import random\n",
    "def learnMultiplication():\n",
    "    keepGoing = 1\n",
    "    while keepGoing == 1:\n",
    "        a = random.randint(0,10)\n",
    "        b = random.randint(0,10)\n",
    "        ans = a * b\n",
    "        repeat = 1\n",
    "        while repeat == 1:\n",
    "            ask = int(input(f'How much is {a} times {b}? '))\n",
    "            if ans == ask:\n",
    "                repeat = 0\n",
    "                print('Very good!')\n",
    "                keepGoing = int(input('Another question? [1 to continue] '))\n",
    "            else:\n",
    "                print('No. Please try again.')"
   ]
  },
  {
   "cell_type": "code",
   "execution_count": 172,
   "id": "376f5568",
   "metadata": {
    "scrolled": true
   },
   "outputs": [
    {
     "name": "stdout",
     "output_type": "stream",
     "text": [
      "How much is 5 times 0? 3\n",
      "No. Please try again.\n",
      "How much is 5 times 0? 4\n",
      "No. Please try again.\n",
      "How much is 5 times 0? 5\n",
      "No. Please try again.\n",
      "How much is 5 times 0? 0\n",
      "Very good!\n",
      "Another question? [1 to continue] 1\n",
      "How much is 9 times 7? 56\n",
      "No. Please try again.\n",
      "How much is 9 times 7? 54\n",
      "No. Please try again.\n",
      "How much is 9 times 7? 63\n",
      "Very good!\n",
      "Another question? [1 to continue] 1\n",
      "How much is 4 times 9? 36\n",
      "Very good!\n",
      "Another question? [1 to continue] 1\n",
      "How much is 4 times 0? 0\n",
      "Very good!\n",
      "Another question? [1 to continue] 0\n"
     ]
    }
   ],
   "source": [
    "learnMultiplication()"
   ]
  },
  {
   "cell_type": "code",
   "execution_count": 176,
   "id": "0b8a5d0e",
   "metadata": {},
   "outputs": [],
   "source": [
    "# 4.15 computer-assisted instruction: reducing student fatigue\n",
    "import random\n",
    "def learnMultiplication():\n",
    "    keepGoing = 1\n",
    "    while keepGoing == 1:\n",
    "        a = random.randint(0,9)\n",
    "        b = random.randint(0,9)\n",
    "        ans = a * b\n",
    "        repeat = 1\n",
    "        while repeat == 1:\n",
    "            response = random.randint(1,3)\n",
    "            ask = int(input(f'How much is {a} times {b}? '))\n",
    "            if ans == ask:\n",
    "                repeat = 0\n",
    "                if response == 1:\n",
    "                    print('Very good!')\n",
    "                elif response == 2:\n",
    "                    print('Nice work!')\n",
    "                else:\n",
    "                    print('Keep up the good work!')\n",
    "                keepGoing = int(input('Another question? [1 to continue] '))\n",
    "            else:\n",
    "                if response == 1:\n",
    "                    print('No. Please try again.')\n",
    "                elif response == 2:\n",
    "                    print('Wrong. Try once more.')\n",
    "                else:\n",
    "                    print('No. Keep trying.')\n",
    "                "
   ]
  },
  {
   "cell_type": "code",
   "execution_count": 180,
   "id": "6b4f9dfd",
   "metadata": {},
   "outputs": [
    {
     "name": "stdout",
     "output_type": "stream",
     "text": [
      "How much is 2 times 2? 4\n",
      "Very good!\n",
      "Another question? [1 to continue] 1\n",
      "How much is 7 times 7? 49\n",
      "Keep up the good work!\n",
      "Another question? [1 to continue] 1\n",
      "How much is 1 times 5? 5\n",
      "Nice work!\n",
      "Another question? [1 to continue] 0\n"
     ]
    }
   ],
   "source": [
    "learnMultiplication()"
   ]
  },
  {
   "cell_type": "code",
   "execution_count": 185,
   "id": "afc59060",
   "metadata": {},
   "outputs": [],
   "source": [
    "# 4.16 computer-assisted instruction: difficulty levels\n",
    "import random\n",
    "def learnMultiplication():\n",
    "    keepGoing = 1\n",
    "    while keepGoing == 1:\n",
    "        difficulty = int(input('Please enter difficulty level [1/2]: '))\n",
    "        while difficulty not in [1,2]:\n",
    "            difficulty = int(input('Please enter difficulty level [1/2]: '))\n",
    "        if difficulty == 1: \n",
    "            a = random.randint(0,9)\n",
    "            b = random.randint(0,9)\n",
    "        elif difficulty == 2:\n",
    "            a = random.randint(0,99)\n",
    "            b = random.randint(0,99)\n",
    "        ans = a * b\n",
    "        repeat = 1\n",
    "        while repeat == 1:\n",
    "            response = random.randint(1,3)\n",
    "            ask = int(input(f'How much is {a} times {b}? '))\n",
    "            if ans == ask:\n",
    "                repeat = 0\n",
    "                if response == 1:\n",
    "                    print('Very good!')\n",
    "                elif response == 2:\n",
    "                    print('Nice work!')\n",
    "                else:\n",
    "                    print('Keep up the good work!')\n",
    "                keepGoing = int(input('Another question? [1 to continue] '))\n",
    "            else:\n",
    "                if response == 1:\n",
    "                    print('No. Please try again.')\n",
    "                elif response == 2:\n",
    "                    print('Wrong. Try once more.')\n",
    "                else:\n",
    "                    print('No. Keep trying.')\n",
    "                "
   ]
  },
  {
   "cell_type": "code",
   "execution_count": 186,
   "id": "09ebc32d",
   "metadata": {},
   "outputs": [
    {
     "name": "stdout",
     "output_type": "stream",
     "text": [
      "Please enter difficulty level [1/2]: 3\n",
      "Please enter difficulty level [1/2]: 4\n",
      "Please enter difficulty level [1/2]: 1\n",
      "How much is 5 times 3? 15\n",
      "Very good!\n",
      "Another question? [1 to continue] 1\n",
      "Please enter difficulty level [1/2]: 3\n",
      "Please enter difficulty level [1/2]: 2\n",
      "How much is 39 times 51? 1989\n",
      "Keep up the good work!\n",
      "Another question? [1 to continue] 0\n"
     ]
    }
   ],
   "source": [
    "learnMultiplication()"
   ]
  },
  {
   "cell_type": "code",
   "execution_count": 195,
   "id": "2d604693",
   "metadata": {},
   "outputs": [],
   "source": [
    "# 4.17 computer-assisted instruction: varying the types of problems\n",
    "import random\n",
    "def learnMath():\n",
    "    keepGoing = 1\n",
    "    while keepGoing == 1:\n",
    "        problemType = int(input('Please pick type of arithmetic problem - \\n1:addition\\n2:subtraction\\n3:multiplication\\n4:division \\n'))\n",
    "        difficulty = int(input('Please enter difficulty level [1/2]: '))\n",
    "        while difficulty not in [1,2]:\n",
    "            difficulty = int(input('Please enter difficulty level [1/2]: '))\n",
    "        if problemType != 4:\n",
    "            if difficulty == 1: \n",
    "                a = random.randint(0,9)\n",
    "                b = random.randint(0,9)\n",
    "            elif difficulty == 2:\n",
    "                a = random.randint(0,99)\n",
    "                b = random.randint(0,99)\n",
    "        else: \n",
    "            if difficulty == 1: \n",
    "                a = random.randint(0,9)\n",
    "                b = random.randint(1,9)\n",
    "            elif difficulty == 2:\n",
    "                a = random.randint(0,99)\n",
    "                b = random.randint(1,99)\n",
    "\n",
    "        repeat = 1\n",
    "        while repeat == 1:\n",
    "            response = random.randint(1,3)\n",
    "            if problemType == 1:\n",
    "                ans = a + b\n",
    "                ask = int(input(f'How much is {a} plus {b}? '))\n",
    "            elif problemType == 2:\n",
    "                ans = a - b\n",
    "                ask = int(input(f'How much is {a} minus {b}? '))\n",
    "            elif problemType == 3:\n",
    "                ans = a * b\n",
    "                ask = int(input(f'How much is {a} times {b}? '))\n",
    "            elif problemType == 4:\n",
    "                ans = round(a / b, 2)\n",
    "                ask = float(input(f'How much is {a} divided by {b}? (round off to 2dp)'))\n",
    "\n",
    "            if ans == ask:\n",
    "                repeat = 0\n",
    "                if response == 1:\n",
    "                    print('Very good!')\n",
    "                elif response == 2:\n",
    "                    print('Nice work!')\n",
    "                else:\n",
    "                    print('Keep up the good work!')\n",
    "                keepGoing = int(input('Another question? [1 to continue] '))\n",
    "            else:\n",
    "                if response == 1:\n",
    "                    print('No. Please try again.')\n",
    "                elif response == 2:\n",
    "                    print('Wrong. Try once more.')\n",
    "                else:\n",
    "                    print('No. Keep trying.')\n",
    "                "
   ]
  },
  {
   "cell_type": "code",
   "execution_count": 196,
   "id": "208690f0",
   "metadata": {},
   "outputs": [
    {
     "name": "stdout",
     "output_type": "stream",
     "text": [
      "Please pick type of arithmetic problem - \n",
      "1:addition\n",
      "2:subtraction\n",
      "3:multiplication\n",
      "4:division \n",
      "4\n",
      "Please enter difficulty level [1/2]: 2\n",
      "How much is 75 divided by 15? (round off to 2dp)5\n",
      "Keep up the good work!\n",
      "Another question? [1 to continue] 1\n",
      "Please pick type of arithmetic problem - \n",
      "1:addition\n",
      "2:subtraction\n",
      "3:multiplication\n",
      "4:division \n",
      "4\n",
      "Please enter difficulty level [1/2]: 2\n",
      "How much is 29 divided by 63? (round off to 2dp)0.46\n",
      "Very good!\n",
      "Another question? [1 to continue] 1\n",
      "Please pick type of arithmetic problem - \n",
      "1:addition\n",
      "2:subtraction\n",
      "3:multiplication\n",
      "4:division \n",
      "0\n",
      "Please enter difficulty level [1/2]: 1\n",
      "Keep up the good work!\n",
      "Another question? [1 to continue] 1\n",
      "Please pick type of arithmetic problem - \n",
      "1:addition\n",
      "2:subtraction\n",
      "3:multiplication\n",
      "4:division \n",
      "1\n",
      "Please enter difficulty level [1/2]: 1\n",
      "How much is 4 plus 9? 13\n",
      "Very good!\n",
      "Another question? [1 to continue] 0\n"
     ]
    }
   ],
   "source": [
    "learnMath()"
   ]
  }
 ],
 "metadata": {
  "kernelspec": {
   "display_name": "Python 3",
   "language": "python",
   "name": "python3"
  },
  "language_info": {
   "codemirror_mode": {
    "name": "ipython",
    "version": 3
   },
   "file_extension": ".py",
   "mimetype": "text/x-python",
   "name": "python",
   "nbconvert_exporter": "python",
   "pygments_lexer": "ipython3",
   "version": "3.8.8"
  }
 },
 "nbformat": 4,
 "nbformat_minor": 5
}
