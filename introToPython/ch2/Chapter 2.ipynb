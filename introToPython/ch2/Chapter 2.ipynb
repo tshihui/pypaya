{
 "cells": [
  {
   "cell_type": "markdown",
   "metadata": {},
   "source": [
    "# Chapter 2: Introduction to Python Programming"
   ]
  },
  {
   "cell_type": "code",
   "execution_count": 14,
   "metadata": {},
   "outputs": [
    {
     "name": "stdout",
     "output_type": "stream",
     "text": [
      "Congratulations! Your grade of 91 earns you an A in this course.\n"
     ]
    }
   ],
   "source": [
    "# 2.3 \n",
    "grade = 91\n",
    "if grade >= 90:\n",
    "    print(\"Congratulations! Your grade of\", grade, \"earns you an A in this course.\")"
   ]
  },
  {
   "cell_type": "code",
   "execution_count": 15,
   "metadata": {},
   "outputs": [
    {
     "name": "stdout",
     "output_type": "stream",
     "text": [
      "29.5\n",
      "25.5\n",
      "55.0\n",
      "13.75\n",
      "13.0\n"
     ]
    }
   ],
   "source": [
    "# 2.4\n",
    "print(27.5 + 2)\n",
    "print(27.5 - 2)\n",
    "print(27.5 * 2)\n",
    "print(27.5 / 2)\n",
    "print(27.5 // 2)"
   ]
  },
  {
   "cell_type": "code",
   "execution_count": 16,
   "metadata": {},
   "outputs": [
    {
     "name": "stdout",
     "output_type": "stream",
     "text": [
      "Diameter = 4\n",
      "Circumference = 12.56636\n",
      "Area = 12.56636\n"
     ]
    }
   ],
   "source": [
    "# 2.5\n",
    "radius = 2\n",
    "pi = 3.14159\n",
    "print('Diameter =', 2*radius )\n",
    "print('Circumference =', 2*radius*pi )\n",
    "print('Area =', pi*radius**2 )"
   ]
  },
  {
   "cell_type": "code",
   "execution_count": 19,
   "metadata": {},
   "outputs": [
    {
     "name": "stdout",
     "output_type": "stream",
     "text": [
      "Odd\n"
     ]
    }
   ],
   "source": [
    "# 2.6\n",
    "def odd_or_even(num):\n",
    "    if num % 2 != 0:\n",
    "        print('Odd')\n",
    "    else:\n",
    "        print('Even')\n",
    "        \n",
    "odd_or_even(145)"
   ]
  },
  {
   "cell_type": "code",
   "execution_count": 21,
   "metadata": {},
   "outputs": [
    {
     "name": "stdout",
     "output_type": "stream",
     "text": [
      "1024 is a multiple of 4\n",
      "2 is not a multiple of 10\n"
     ]
    }
   ],
   "source": [
    "# 2.7\n",
    "def multipleNot(num, factor):\n",
    "    if num % factor == 0:\n",
    "        print(num, 'is a multiple of', factor)\n",
    "    else:\n",
    "        print(num, 'is not a multiple of', factor)\n",
    "        \n",
    "multipleNot(1024, 4)\n",
    "multipleNot(2, 10)"
   ]
  },
  {
   "cell_type": "code",
   "execution_count": 26,
   "metadata": {},
   "outputs": [
    {
     "name": "stdout",
     "output_type": "stream",
     "text": [
      "number\tsquare\tcube\n",
      "0 \t 0 \t 0\n",
      "1 \t 1 \t 1\n",
      "2 \t 4 \t 8\n",
      "3 \t 9 \t 27\n",
      "4 \t 16 \t 64\n",
      "5 \t 25 \t 125\n"
     ]
    }
   ],
   "source": [
    "# 2.8\n",
    "print(\"number\\tsquare\\tcube\")\n",
    "for i in range(6):\n",
    "    print(i, '\\t', i**2, '\\t', i**3)"
   ]
  },
  {
   "cell_type": "code",
   "execution_count": 42,
   "metadata": {},
   "outputs": [
    {
     "name": "stdout",
     "output_type": "stream",
     "text": [
      "B: 66\n",
      "C: 67\n",
      "D: 68\n",
      "b: 98\n",
      "c: 99\n",
      "d: 100\n",
      "0: 48\n",
      "1: 49\n",
      "2: 50\n",
      "$: 36\n",
      "*: 42\n",
      "+: 43\n",
      "  32\n"
     ]
    }
   ],
   "source": [
    "# 2.9\n",
    "print('B:', ord('B'))\n",
    "print('C:', ord('C'))\n",
    "print('D:', ord('D'))\n",
    "print('b:', ord('b'))\n",
    "print('c:', ord('c'))\n",
    "print('d:', ord('d'))\n",
    "print('0:', ord('0'))\n",
    "print('1:', ord('1'))\n",
    "print('2:', ord('2'))\n",
    "print('$:', ord('$'))\n",
    "print('*:', ord('*'))\n",
    "print('+:', ord('+'))\n",
    "print(' ', ord(' '))"
   ]
  },
  {
   "cell_type": "code",
   "execution_count": 66,
   "metadata": {},
   "outputs": [
    {
     "name": "stdin",
     "output_type": "stream",
     "text": [
      "Please give a 5 digit integer 39405\n"
     ]
    },
    {
     "name": "stdout",
     "output_type": "stream",
     "text": [
      "3     9     4     0     5\n"
     ]
    }
   ],
   "source": [
    "# 2.11\n",
    "fiveInt = int(input('Please give a 5 digit integer'))\n",
    "print(fiveInt//10000, '   ',\n",
    "      (fiveInt//1000) % 10, '   ',\n",
    "     (fiveInt//100) % 100 % 10, '   ',\n",
    "      (fiveInt//10) % 100 % 10, '   ',\n",
    "      (fiveInt//1) % 100 % 10 )"
   ]
  },
  {
   "cell_type": "code",
   "execution_count": 69,
   "metadata": {},
   "outputs": [
    {
     "name": "stdout",
     "output_type": "stream",
     "text": [
      "After 10 years: 1967.15\n",
      "After 10 years: 3869.68\n",
      "After 10 years: 7612.26\n"
     ]
    }
   ],
   "source": [
    "# 2.12\n",
    "p = 1000\n",
    "r = 0.07\n",
    "print('After 10 years:', round(p * (1+r)**10,2))\n",
    "print('After 10 years:', round(p * (1+r)**20,2))\n",
    "print('After 10 years:', round(p * (1+r)**30,2))"
   ]
  },
  {
   "cell_type": "code",
   "execution_count": 70,
   "metadata": {},
   "outputs": [
    {
     "ename": "KeyboardInterrupt",
     "evalue": "",
     "output_type": "error",
     "traceback": [
      "\u001b[0;31m---------------------------------------------------------------------------\u001b[0m",
      "\u001b[0;31mKeyboardInterrupt\u001b[0m                         Traceback (most recent call last)",
      "\u001b[0;32m<ipython-input-70-34c779c7f187>\u001b[0m in \u001b[0;36m<module>\u001b[0;34m\u001b[0m\n\u001b[1;32m      1\u001b[0m \u001b[0;31m# 2.13\u001b[0m\u001b[0;34m\u001b[0m\u001b[0;34m\u001b[0m\u001b[0;34m\u001b[0m\u001b[0m\n\u001b[0;32m----> 2\u001b[0;31m \u001b[0;36m90000000\u001b[0m\u001b[0;34m**\u001b[0m\u001b[0;36m1000000000\u001b[0m\u001b[0;34m\u001b[0m\u001b[0;34m\u001b[0m\u001b[0m\n\u001b[0m",
      "\u001b[0;31mKeyboardInterrupt\u001b[0m: "
     ]
    }
   ],
   "source": [
    "# 2.13\n",
    "90000000**1000000000"
   ]
  },
  {
   "cell_type": "code",
   "execution_count": 74,
   "metadata": {},
   "outputs": [
    {
     "name": "stdin",
     "output_type": "stream",
     "text": [
      "Please input your age: 38\n"
     ]
    },
    {
     "name": "stdout",
     "output_type": "stream",
     "text": [
      "Your maximum heart rate is: 182 and targeted heart rate is: 91.0 - 154.7\n"
     ]
    }
   ],
   "source": [
    "# 2.14\n",
    "age = int(input('Please input your age:'))\n",
    "print('Your maximum heart rate is:', 220-age,\n",
    "      'and targeted heart rate is:', (220 - age) * 0.50, '-', (220 - age) * 0.85)"
   ]
  },
  {
   "cell_type": "code",
   "execution_count": 76,
   "metadata": {},
   "outputs": [
    {
     "data": {
      "text/plain": [
       "3.0"
      ]
     },
     "execution_count": 76,
     "metadata": {},
     "output_type": "execute_result"
    }
   ],
   "source": [
    "# 2.15\n",
    "float('3')"
   ]
  },
  {
   "cell_type": "code",
   "execution_count": null,
   "metadata": {},
   "outputs": [],
   "source": []
  }
 ],
 "metadata": {
  "kernelspec": {
   "display_name": "Python 3",
   "language": "python",
   "name": "python3"
  },
  "language_info": {
   "codemirror_mode": {
    "name": "ipython",
    "version": 3
   },
   "file_extension": ".py",
   "mimetype": "text/x-python",
   "name": "python",
   "nbconvert_exporter": "python",
   "pygments_lexer": "ipython3",
   "version": "3.7.3"
  }
 },
 "nbformat": 4,
 "nbformat_minor": 2
}
