{
 "cells": [
  {
   "cell_type": "markdown",
   "id": "51f1a9cf",
   "metadata": {},
   "source": [
    "# Self checks"
   ]
  },
  {
   "cell_type": "code",
   "execution_count": 5,
   "id": "38a1af11",
   "metadata": {},
   "outputs": [
    {
     "name": "stdout",
     "output_type": "stream",
     "text": [
      "Enter the first integer : 3\n",
      "Enter the second integer : 3\n",
      "Total sum of 2 integers are:  6\n"
     ]
    }
   ],
   "source": [
    "n1 = int(input('Enter the first integer : '))\n",
    "n2 = int(input('Enter the second integer : '))\n",
    "total = n1+n2\n",
    "print('Total sum of 2 integers are: ', total)"
   ]
  },
  {
   "cell_type": "code",
   "execution_count": 4,
   "id": "2b182128",
   "metadata": {},
   "outputs": [],
   "source": [
    "grade = 55\n",
    "if grade >= 60:\n",
    "    print('Passed')"
   ]
  },
  {
   "cell_type": "code",
   "execution_count": 5,
   "id": "5ca61406",
   "metadata": {},
   "outputs": [
    {
     "data": {
      "text/plain": [
       "'Failed'"
      ]
     },
     "execution_count": 5,
     "metadata": {},
     "output_type": "execute_result"
    }
   ],
   "source": [
    "'Passed' if grade >= 60 else 'Failed'"
   ]
  },
  {
   "cell_type": "code",
   "execution_count": 8,
   "id": "bc67c237",
   "metadata": {},
   "outputs": [
    {
     "data": {
      "text/plain": [
       "2401"
      ]
     },
     "execution_count": 8,
     "metadata": {},
     "output_type": "execute_result"
    }
   ],
   "source": [
    "product = 7\n",
    "\n",
    "while product < 1000:\n",
    "    product *= 7\n",
    "    \n",
    "product"
   ]
  },
  {
   "cell_type": "code",
   "execution_count": 15,
   "id": "32f122f8",
   "metadata": {},
   "outputs": [
    {
     "name": "stdout",
     "output_type": "stream",
     "text": [
      "hello ha oh\n"
     ]
    }
   ],
   "source": [
    "print('hello ha', end=' ')\n",
    "print('oh')"
   ]
  },
  {
   "cell_type": "code",
   "execution_count": 16,
   "id": "58a3a2e7",
   "metadata": {},
   "outputs": [
    {
     "name": "stdout",
     "output_type": "stream",
     "text": [
      "1_2_3_4\n"
     ]
    }
   ],
   "source": [
    "print(1,2,3,4, sep=\"_\")"
   ]
  },
  {
   "cell_type": "code",
   "execution_count": 17,
   "id": "a8c0f75a",
   "metadata": {},
   "outputs": [
    {
     "name": "stdout",
     "output_type": "stream",
     "text": [
      "1234\n"
     ]
    }
   ],
   "source": [
    "print(1,2,3,4, sep='')"
   ]
  },
  {
   "cell_type": "code",
   "execution_count": 19,
   "id": "393483ac",
   "metadata": {},
   "outputs": [
    {
     "data": {
      "text/plain": [
       "5000050000"
      ]
     },
     "execution_count": 19,
     "metadata": {},
     "output_type": "execute_result"
    }
   ],
   "source": [
    "total = 0\n",
    "for num in range(100001):\n",
    "    total += num\n",
    "\n",
    "total"
   ]
  },
  {
   "cell_type": "code",
   "execution_count": 22,
   "id": "4f3d4743",
   "metadata": {},
   "outputs": [
    {
     "data": {
      "text/plain": [
       "144"
      ]
     },
     "execution_count": 22,
     "metadata": {},
     "output_type": "execute_result"
    }
   ],
   "source": [
    "x = 12\n",
    "x **= 2 \n",
    "x"
   ]
  },
  {
   "cell_type": "code",
   "execution_count": 23,
   "id": "230656c2",
   "metadata": {},
   "outputs": [
    {
     "name": "stdout",
     "output_type": "stream",
     "text": [
      "Average score: 43.5\n"
     ]
    }
   ],
   "source": [
    "total = 0\n",
    "numGrades = 0\n",
    "grades = [30, 35, 90, 20, 40, 46]\n",
    "\n",
    "for grade in grades:\n",
    "    total += grade\n",
    "    numGrades += 1\n",
    "    \n",
    "avgGrade = total/numGrades\n",
    "print(f'Average score: {avgGrade}')"
   ]
  },
  {
   "cell_type": "code",
   "execution_count": 26,
   "id": "1b821450",
   "metadata": {},
   "outputs": [
    {
     "name": "stdout",
     "output_type": "stream",
     "text": [
      "7 times 5 is 35\n"
     ]
    }
   ],
   "source": [
    "number1 = 7\n",
    "number2 = 5\n",
    "print (f'{number1} times {number2} is {number1*number2}')"
   ]
  },
  {
   "cell_type": "code",
   "execution_count": 35,
   "id": "977b778c",
   "metadata": {},
   "outputs": [
    {
     "name": "stdout",
     "output_type": "stream",
     "text": [
      "Enter grade, -1 to end 38\n",
      "Enter grade, -1 to end 93\n",
      "Enter grade, -1 to end 20\n",
      "Enter grade, -1 to end -1\n",
      "Average grade is 50.33\n"
     ]
    }
   ],
   "source": [
    "total = 0\n",
    "numGrades = 0\n",
    "\n",
    "userGrade = int(input('Enter grade, -1 to end '))\n",
    "while userGrade > 0:\n",
    "    total += userGrade\n",
    "    numGrades += 1\n",
    "    userGrade = int(input('Enter grade, -1 to end '))\n",
    "\n",
    "if numGrades >0: \n",
    "    avgGrade = total/numGrades\n",
    "    print(f'Average grade is {avgGrade:.2f}')\n",
    "else:\n",
    "    print('No grades were entered')\n"
   ]
  },
  {
   "cell_type": "code",
   "execution_count": 44,
   "id": "f4342e14",
   "metadata": {},
   "outputs": [
    {
     "name": "stdout",
     "output_type": "stream",
     "text": [
      "Please input 1 if student passed, 2 if failed. 1\n",
      "Please input 1 if student passed, 2 if failed. 1\n",
      "Please input 1 if student passed, 2 if failed. 1\n",
      "Please input 1 if student passed, 2 if failed. 1\n",
      "Please input 1 if student passed, 2 if failed. 1\n",
      "Please input 1 if student passed, 2 if failed. 1\n",
      "Please input 1 if student passed, 2 if failed. 1\n",
      "Please input 1 if student passed, 2 if failed. 1\n",
      "Please input 1 if student passed, 2 if failed. 2\n",
      "Please input 1 if student passed, 2 if failed. 2\n",
      "Number of students who passed: 8\n",
      "Number of students who failed: 2\n"
     ]
    }
   ],
   "source": [
    "numPassed = 0\n",
    "numFailed = 0\n",
    "counter = 0\n",
    "\n",
    "while counter <10:\n",
    "    result = int(input('Please input 1 if student passed, 2 if failed. '))\n",
    "    if result == 1:\n",
    "        numPassed += 1\n",
    "    else:\n",
    "        numFailed += 1\n",
    "    counter += 1\n",
    "\n",
    "print(f'Number of students who passed: {numPassed}\\nNumber of students who failed: {numFailed}')\n",
    "if numPassed > 8:\n",
    "    print('Bonus to instructor')"
   ]
  },
  {
   "cell_type": "code",
   "execution_count": 48,
   "id": "317ad889",
   "metadata": {},
   "outputs": [
    {
     "name": "stdout",
     "output_type": "stream",
     "text": [
      "Input number: 0\n",
      "0 is even\n",
      "Input number: 2\n",
      "2 is even\n"
     ]
    }
   ],
   "source": [
    "for count in range(2):\n",
    "    num = int(input('Input number: '))\n",
    "    if num%2 == 0:\n",
    "        print(f'{num} is even')\n",
    "    else:\n",
    "        print(f'{num} is odd')"
   ]
  },
  {
   "cell_type": "code",
   "execution_count": 49,
   "id": "fce95858",
   "metadata": {},
   "outputs": [
    {
     "data": {
      "text/plain": [
       "[4, 5, 6, 7, 8, 9]"
      ]
     },
     "execution_count": 49,
     "metadata": {},
     "output_type": "execute_result"
    }
   ],
   "source": [
    "[x for x in range(4, 10)]"
   ]
  },
  {
   "cell_type": "code",
   "execution_count": 50,
   "id": "4d8531ea",
   "metadata": {},
   "outputs": [
    {
     "data": {
      "text/plain": [
       "[0, 2, 4, 6, 8]"
      ]
     },
     "execution_count": 50,
     "metadata": {},
     "output_type": "execute_result"
    }
   ],
   "source": [
    "[x for x in range(0, 10, 2)]"
   ]
  },
  {
   "cell_type": "code",
   "execution_count": 52,
   "id": "17da5467",
   "metadata": {},
   "outputs": [
    {
     "data": {
      "text/plain": [
       "[0, -2, -4, -6, -8]"
      ]
     },
     "execution_count": 52,
     "metadata": {},
     "output_type": "execute_result"
    }
   ],
   "source": [
    "[x for x in range(0, -10, -2)]"
   ]
  },
  {
   "cell_type": "code",
   "execution_count": 53,
   "id": "b2b06ffa",
   "metadata": {},
   "outputs": [
    {
     "name": "stdout",
     "output_type": "stream",
     "text": [
      "99 88 77 66 55 44 33 22 11 0 "
     ]
    }
   ],
   "source": [
    "for x in [99, 88, 77, 66, 55, 44, 33, 22, 11, 0]:\n",
    "    print(x, end=' ')"
   ]
  },
  {
   "cell_type": "code",
   "execution_count": 55,
   "id": "f2c1f5c6",
   "metadata": {},
   "outputs": [
    {
     "name": "stdout",
     "output_type": "stream",
     "text": [
      "2550\n"
     ]
    }
   ],
   "source": [
    "sum = 0\n",
    "for num in range(2, 102, 2):\n",
    "    sum += num\n",
    "print(sum)"
   ]
  },
  {
   "cell_type": "code",
   "execution_count": 56,
   "id": "523063b9",
   "metadata": {},
   "outputs": [
    {
     "data": {
      "text/plain": [
       "Decimal('100.2000000000000028421709430404007434844970703125')"
      ]
     },
     "execution_count": 56,
     "metadata": {},
     "output_type": "execute_result"
    }
   ],
   "source": [
    "from decimal import Decimal\n",
    "Decimal(100.20)"
   ]
  },
  {
   "cell_type": "code",
   "execution_count": 59,
   "id": "8e28a950",
   "metadata": {},
   "outputs": [
    {
     "ename": "TypeError",
     "evalue": "unsupported operand type(s) for +: 'decimal.Decimal' and 'float'",
     "output_type": "error",
     "traceback": [
      "\u001b[0;31m---------------------------------------------------------------------------\u001b[0m",
      "\u001b[0;31mTypeError\u001b[0m                                 Traceback (most recent call last)",
      "\u001b[0;32m<ipython-input-59-c3d8157daa8e>\u001b[0m in \u001b[0;36m<module>\u001b[0;34m\u001b[0m\n\u001b[0;32m----> 1\u001b[0;31m \u001b[0mDecimal\u001b[0m\u001b[0;34m(\u001b[0m\u001b[0;34m'201.1'\u001b[0m\u001b[0;34m)\u001b[0m \u001b[0;34m+\u001b[0m \u001b[0;36m29.1\u001b[0m\u001b[0;34m\u001b[0m\u001b[0;34m\u001b[0m\u001b[0m\n\u001b[0m",
      "\u001b[0;31mTypeError\u001b[0m: unsupported operand type(s) for +: 'decimal.Decimal' and 'float'"
     ]
    }
   ],
   "source": [
    "Decimal('201.1') + 29.1"
   ]
  },
  {
   "cell_type": "code",
   "execution_count": 67,
   "id": "642a8683",
   "metadata": {},
   "outputs": [
    {
     "name": "stdout",
     "output_type": "stream",
     "text": [
      " 1   1050.00\n",
      " 2   1102.50\n",
      " 3   1157.63\n",
      " 4   1215.51\n",
      " 5   1276.28\n",
      " 6   1340.10\n",
      " 7   1407.10\n",
      " 8   1477.46\n",
      " 9   1551.33\n",
      "10   1628.89\n"
     ]
    }
   ],
   "source": [
    "interest = 0.05\n",
    "principal = 1000\n",
    "years = 10\n",
    "\n",
    "for year in range(1,years+1):\n",
    "    amt = principal * (1+interest)**year\n",
    "    print(f'{year:>2}{amt:>10.2f}')\n",
    "    # right align year \n",
    "    # right algin amt width of 10, rounded to 2dp"
   ]
  },
  {
   "cell_type": "code",
   "execution_count": 72,
   "id": "2b08af64",
   "metadata": {},
   "outputs": [
    {
     "name": "stdout",
     "output_type": "stream",
     "text": [
      "39.79\n"
     ]
    }
   ],
   "source": [
    "bill = Decimal('37.45') * Decimal('1.0625')\n",
    "print(f'{bill:.2f}')"
   ]
  },
  {
   "cell_type": "code",
   "execution_count": 76,
   "id": "15dae598",
   "metadata": {},
   "outputs": [
    {
     "name": "stdout",
     "output_type": "stream",
     "text": [
      "012456789"
     ]
    }
   ],
   "source": [
    "for num in range(10):\n",
    "    if num == 3:\n",
    "        continue\n",
    "    print(num, end='')"
   ]
  },
  {
   "cell_type": "code",
   "execution_count": 77,
   "id": "34890ad5",
   "metadata": {},
   "outputs": [
    {
     "name": "stdout",
     "output_type": "stream",
     "text": [
      "True\n",
      "False\n",
      "True\n",
      "False\n",
      "False\n"
     ]
    }
   ],
   "source": [
    "i = 1\n",
    "j = 2 \n",
    "k = 3\n",
    "m = 2\n",
    "print((i >= 1) and (j < 4)) # True\n",
    "print((m <= 99) and (k < m)) # False\n",
    "print((j >= i) or (k == m)) # True\n",
    "print((k+m < j) or (3-j >= k))# False\n",
    "print(not (k>m)) # False"
   ]
  },
  {
   "cell_type": "code",
   "execution_count": 78,
   "id": "59367172",
   "metadata": {},
   "outputs": [
    {
     "data": {
      "text/plain": [
       "45"
      ]
     },
     "execution_count": 78,
     "metadata": {},
     "output_type": "execute_result"
    }
   ],
   "source": [
    "import statistics\n",
    "grades = [45, 45, 85, 85, 49]\n",
    "statistics.mode(grades)"
   ]
  },
  {
   "cell_type": "code",
   "execution_count": 80,
   "id": "a0391131",
   "metadata": {},
   "outputs": [
    {
     "name": "stdout",
     "output_type": "stream",
     "text": [
      "79.16666666666667\n",
      "86.0\n",
      "88\n"
     ]
    }
   ],
   "source": [
    "vals = [47, 95, 88, 73, 88, 84]\n",
    "print(statistics.mean(vals))\n",
    "print(statistics.median(vals))\n",
    "print(statistics.mode(vals))"
   ]
  },
  {
   "cell_type": "markdown",
   "id": "8530dcbd",
   "metadata": {},
   "source": [
    "# Exercises"
   ]
  },
  {
   "cell_type": "code",
   "execution_count": 82,
   "id": "63c8bbcf",
   "metadata": {},
   "outputs": [
    {
     "name": "stdout",
     "output_type": "stream",
     "text": [
      "Please input 1 if student passed, 2 if failed. 1\n",
      "Please input 1 if student passed, 2 if failed. 2\n",
      "Please input 1 if student passed, 2 if failed. 3\n",
      "Please input 1 if student passed, 2 if failed. 1\n",
      "Please input 1 if student passed, 2 if failed. 2\n",
      "Please input 1 if student passed, 2 if failed. 1\n",
      "Please input 1 if student passed, 2 if failed. 2\n",
      "Please input 1 if student passed, 2 if failed. 3\n",
      "Please input 1 if student passed, 2 if failed. 4\n",
      "Please input 1 if student passed, 2 if failed. 4\n",
      "Please input 1 if student passed, 2 if failed. 43\n",
      "Please input 1 if student passed, 2 if failed. 2\n",
      "Please input 1 if student passed, 2 if failed. 1\n",
      "Please input 1 if student passed, 2 if failed. 1\n",
      "Please input 1 if student passed, 2 if failed. 1\n",
      "Please input 1 if student passed, 2 if failed. 2\n",
      "Number of students who passed: 5\n",
      "Number of students who failed: 5\n"
     ]
    }
   ],
   "source": [
    "## 3.1: Validating user input\n",
    "numPassed = 0\n",
    "numFailed = 0\n",
    "counter = 0\n",
    "\n",
    "while counter <10:\n",
    "    result = int(input('Please input 1 if student passed, 2 if failed. '))\n",
    "    if result == 1:\n",
    "        numPassed += 1\n",
    "    elif result == 2:\n",
    "        numFailed += 1\n",
    "    else: \n",
    "        result = int(input('Please input 1 if student passed, 2 if failed. '))\n",
    "    counter = numPassed + numFailed\n",
    "\n",
    "print(f'Number of students who passed: {numPassed}\\nNumber of students who failed: {numFailed}')\n",
    "if numPassed > 8:\n",
    "    print('Bonus to instructor')"
   ]
  },
  {
   "cell_type": "code",
   "execution_count": 87,
   "id": "aebdbd62",
   "metadata": {},
   "outputs": [
    {
     "name": "stdout",
     "output_type": "stream",
     "text": [
      "a =  7 \n",
      "b =  7\n"
     ]
    }
   ],
   "source": [
    "## 3.2: What's wrong with this code?\n",
    "a = b = 7\n",
    "print('a = ', a, '\\nb = ', b)"
   ]
  },
  {
   "cell_type": "code",
   "execution_count": 88,
   "id": "794c7486",
   "metadata": {},
   "outputs": [
    {
     "name": "stdout",
     "output_type": "stream",
     "text": [
      ">>>>>>>>>>\n",
      "<<<<<<<<<<\n",
      ">>>>>>>>>>\n",
      "<<<<<<<<<<\n",
      ">>>>>>>>>>\n",
      "<<<<<<<<<<\n",
      ">>>>>>>>>>\n",
      "<<<<<<<<<<\n",
      ">>>>>>>>>>\n",
      "<<<<<<<<<<\n"
     ]
    }
   ],
   "source": [
    "## 3.3: What does this code do?\n",
    "for row in range(10):\n",
    "    for column in range(10):\n",
    "        print('<' if row % 2 == 1 else '>', end='')\n",
    "    print()"
   ]
  },
  {
   "cell_type": "code",
   "execution_count": 90,
   "id": "65898b52",
   "metadata": {},
   "outputs": [
    {
     "name": "stdout",
     "output_type": "stream",
     "text": [
      "@@@@@@@\n",
      "@@@@@@@\n"
     ]
    }
   ],
   "source": [
    "## 3.4: Fill in the missing Code\n",
    "for row in range(2):\n",
    "    for column in range(7):\n",
    "        print('@', end='')\n",
    "    print()"
   ]
  },
  {
   "cell_type": "code",
   "execution_count": 91,
   "id": "41a05bff",
   "metadata": {},
   "outputs": [
    {
     "name": "stdout",
     "output_type": "stream",
     "text": [
      "Enter two integers, and I will tell you the relationship they satisfy\n",
      "Enter first integer: 30\n",
      "Enter second integer: 29\n",
      "30 is not equal to 29\n",
      "30 is greater than 29\n",
      "30 is greater than or equal to 29\n"
     ]
    }
   ],
   "source": [
    "## 3.5: if...else Statements\n",
    "print('Enter two integers, and I will tell you',\n",
    "     'the relationship they satisfy')\n",
    "\n",
    "# read first integer\n",
    "number1 = int(input('Enter first integer: '))\n",
    "\n",
    "# read second integer\n",
    "number2 = int(input('Enter second integer: '))\n",
    "\n",
    "if number1==number2:\n",
    "    print(number1, 'is equal to', number2)\n",
    "else:\n",
    "    print(number1, 'is not equal to', number2)\n",
    "    \n",
    "if number1 < number2:\n",
    "    print(number1, 'is less than', number2)\n",
    "else:\n",
    "    print(number1, 'is greater than', number2)\n",
    "\n",
    "if number1 <= number2:\n",
    "    print(number1, 'is less than or equal to', number2)\n",
    "else:\n",
    "    print(number1, 'is greater than or equal to', number2)"
   ]
  },
  {
   "cell_type": "code",
   "execution_count": 94,
   "id": "eb271f8e",
   "metadata": {},
   "outputs": [
    {
     "name": "stdout",
     "output_type": "stream",
     "text": [
      "What is your problem? ajfo\n",
      "Have you had this problem before (yes or no)? NO\n",
      "Well, you have it now.\n"
     ]
    }
   ],
   "source": [
    "## 3.6: Turing Test\n",
    "ans = input('What is your problem? ')\n",
    "ans = input('Have you had this problem before (yes or no)? ')\n",
    "if ans.lower() == 'yes':\n",
    "    print('Well, you have it again.')\n",
    "else:\n",
    "    print('Well, you have it now.')\n"
   ]
  },
  {
   "cell_type": "code",
   "execution_count": 104,
   "id": "c008d7a3",
   "metadata": {},
   "outputs": [
    {
     "name": "stdout",
     "output_type": "stream",
     "text": [
      "number  square  cube\n",
      "     0       0     0\n",
      "     1       1     1\n",
      "     2       4     8\n",
      "     3       9    27\n",
      "     4      16    64\n",
      "     5      25   125\n"
     ]
    }
   ],
   "source": [
    "## 3.7: Table of Squares and Cubes\n",
    "print('number', 'square', 'cube', sep='  ')\n",
    "for num in range(6):\n",
    "    print(f'{num:>6}{num**2:>8}{num**3:>6}')"
   ]
  },
  {
   "cell_type": "code",
   "execution_count": 110,
   "id": "3ed73b95",
   "metadata": {},
   "outputs": [
    {
     "name": "stdout",
     "output_type": "stream",
     "text": [
      "Please input integer 0: 29\n",
      "Please input integer 1: 49\n",
      "Please input integer 2: 39\n",
      "Please input integer 3: 1\n",
      "[29, 49, 39, 1]\n",
      "Sum of integers:  118\n",
      "Average of integers:  29.5\n",
      "Smallest integer:  1\n",
      "Smallest integer:  49\n"
     ]
    }
   ],
   "source": [
    "## 3.8: Arithmetic, Smallest and Largest\n",
    "listNums = []\n",
    "total = 0\n",
    "for i in range(4):\n",
    "    num = int(input(f'Please input integer {i}: '))\n",
    "    listNums.append(num)\n",
    "    total += num\n",
    "\n",
    "print(listNums)\n",
    "print('Sum of integers: ', total)\n",
    "print('Average of integers: ', total/len(listNums))\n",
    "print('Smallest integer: ', sorted(listNums)[0])\n",
    "print('Smallest integer: ', sorted(listNums)[(len(listNums)-1)])"
   ]
  },
  {
   "cell_type": "code",
   "execution_count": 125,
   "id": "2d1548cc",
   "metadata": {},
   "outputs": [
    {
     "name": "stdout",
     "output_type": "stream",
     "text": [
      "Please input 5-digit number: 39403\n",
      "3\n",
      "9\n",
      "4\n",
      "0\n",
      "3\n"
     ]
    }
   ],
   "source": [
    "## 3.9: Separating the Digits in an Integer\n",
    "digit = int(input('Please input 5-digit number: '))\n",
    "for i in range(4, -1, -1):\n",
    "    divisor = 10**i\n",
    "    print(digit // divisor)\n",
    "    digit %= divisor\n",
    "    "
   ]
  },
  {
   "cell_type": "code",
   "execution_count": 128,
   "id": "89f316cd",
   "metadata": {},
   "outputs": [
    {
     "name": "stdout",
     "output_type": "stream",
     "text": [
      "Amount of money after 1 year 1070.00\n",
      "Amount of money after 2 year 1144.90\n",
      "Amount of money after 3 year 1225.04\n",
      "Amount of money after 4 year 1310.80\n",
      "Amount of money after 5 year 1402.55\n",
      "Amount of money after 6 year 1500.73\n",
      "Amount of money after 7 year 1605.78\n",
      "Amount of money after 8 year 1718.19\n",
      "Amount of money after 9 year 1838.46\n",
      "Amount of money after 10 year 1967.15\n",
      "Amount of money after 11 year 2104.85\n",
      "Amount of money after 12 year 2252.19\n",
      "Amount of money after 13 year 2409.85\n",
      "Amount of money after 14 year 2578.53\n",
      "Amount of money after 15 year 2759.03\n",
      "Amount of money after 16 year 2952.16\n",
      "Amount of money after 17 year 3158.82\n",
      "Amount of money after 18 year 3379.93\n",
      "Amount of money after 19 year 3616.53\n",
      "Amount of money after 20 year 3869.68\n",
      "Amount of money after 21 year 4140.56\n",
      "Amount of money after 22 year 4430.40\n",
      "Amount of money after 23 year 4740.53\n",
      "Amount of money after 24 year 5072.37\n",
      "Amount of money after 25 year 5427.43\n",
      "Amount of money after 26 year 5807.35\n",
      "Amount of money after 27 year 6213.87\n",
      "Amount of money after 28 year 6648.84\n",
      "Amount of money after 29 year 7114.26\n",
      "Amount of money after 30 year 7612.26\n"
     ]
    }
   ],
   "source": [
    "## 3.10: 7% Investment Return\n",
    "principal = 1000\n",
    "interest = 0.07\n",
    "for year in range(1,31):\n",
    "    actual = principal * (1+interest)**year\n",
    "    print(f'Amount of money after {year} year {actual:.2f}')"
   ]
  },
  {
   "cell_type": "code",
   "execution_count": 134,
   "id": "be6add42",
   "metadata": {},
   "outputs": [
    {
     "name": "stdout",
     "output_type": "stream",
     "text": [
      "Enter the gallons used (-1 to end): 100\n",
      "Enter the miles driven: 20\n",
      "The miles/gallon for this tank was 0.200000\n",
      "Enter the gallons used (-1 to end): 29\n",
      "Enter the miles driven: 192\n",
      "The miles/gallon for this tank was 6.620690\n",
      "Enter the gallons used (-1 to end): -1\n",
      "The overall average miles/gallon was 1.643411\n"
     ]
    }
   ],
   "source": [
    "## 3.11: Miles Per Gallon\n",
    "gallons = 0\n",
    "gallonsTotal = 0\n",
    "milesTotal = 0\n",
    "while gallons >= 0:\n",
    "    gallons = float(input('Enter the gallons used (-1 to end): '))\n",
    "    if gallons != -1:\n",
    "        miles = float(input('Enter the miles driven: '))\n",
    "        print(f'The miles/gallon for this tank was {miles/gallons:.6f}')\n",
    "        gallonsTotal += gallons\n",
    "        milesTotal += miles\n",
    "    else:\n",
    "        break\n",
    "print(f'The overall average miles/gallon was {milesTotal/gallonsTotal:.6f}')"
   ]
  },
  {
   "cell_type": "code",
   "execution_count": 157,
   "id": "c3647292",
   "metadata": {},
   "outputs": [
    {
     "name": "stdout",
     "output_type": "stream",
     "text": [
      "Please input 5-digit integer: 3293\n",
      "Please input 5-digit integer: 39402\n",
      "39402 is a not palindrome.\n"
     ]
    }
   ],
   "source": [
    "## 3.12: Palindromes\n",
    "digit = input('Please input 5-digit integer: ')\n",
    "while len(digit) != 5:\n",
    "    digit = input('Please input 5-digit integer: ')\n",
    "digitOrder = []\n",
    "digit = int(digit)\n",
    "orgDigit = digit\n",
    "\n",
    "for i in range(4, -1, -1):\n",
    "    divisor = 10**i\n",
    "    digitOrder.append(digit//divisor)\n",
    "    digit %= divisor\n",
    "if (digitOrder[0] == digitOrder[4]) and (digitOrder[1] == digitOrder[3]):\n",
    "    print(f'{orgDigit} is a palindrome.')\n",
    "else: \n",
    "    print(f'{orgDigit} is a not palindrome.')"
   ]
  },
  {
   "cell_type": "code",
   "execution_count": 161,
   "id": "f76bdd30",
   "metadata": {},
   "outputs": [
    {
     "name": "stdout",
     "output_type": "stream",
     "text": [
      "Please input a nonnegative integer: 30\n",
      "Factorial of 30 is : 265252859812191058636308480000000\n"
     ]
    }
   ],
   "source": [
    "## 3.13: Factorials\n",
    "integer = int(input('Please input a nonnegative integer: '))\n",
    "factorial = 1\n",
    "for i in range(1, integer+1):\n",
    "    factorial *= i\n",
    "print(f'Factorial of {integer} is : {factorial}')"
   ]
  },
  {
   "cell_type": "code",
   "execution_count": 173,
   "id": "2a9692f3",
   "metadata": {},
   "outputs": [
    {
     "name": "stdout",
     "output_type": "stream",
     "text": [
      "Please input max term: 1000\n",
      "For 1 term, pi = 4.0\n",
      "For 2 term, pi = 2.666666666666667\n",
      "For 3 term, pi = 3.466666666666667\n",
      "For 4 term, pi = 2.8952380952380956\n",
      "For 5 term, pi = 3.3396825396825403\n",
      "For 6 term, pi = 2.9760461760461765\n",
      "For 7 term, pi = 3.2837384837384844\n",
      "For 8 term, pi = 3.017071817071818\n",
      "For 9 term, pi = 3.2523659347188767\n",
      "For 10 term, pi = 3.0418396189294032\n",
      "For 11 term, pi = 3.232315809405594\n",
      "For 12 term, pi = 3.058402765927333\n",
      "For 13 term, pi = 3.2184027659273333\n",
      "For 14 term, pi = 3.0702546177791854\n",
      "For 15 term, pi = 3.208185652261944\n",
      "For 16 term, pi = 3.079153394197428\n",
      "For 17 term, pi = 3.200365515409549\n",
      "For 18 term, pi = 3.0860798011238346\n",
      "For 19 term, pi = 3.1941879092319425\n",
      "For 20 term, pi = 3.09162380666784\n",
      "For 21 term, pi = 3.189184782277596\n",
      "For 22 term, pi = 3.0961615264636424\n",
      "For 23 term, pi = 3.1850504153525314\n",
      "For 24 term, pi = 3.099944032373808\n",
      "For 25 term, pi = 3.1815766854350325\n",
      "For 26 term, pi = 3.1031453128860127\n",
      "For 27 term, pi = 3.1786170109992202\n",
      "For 28 term, pi = 3.1058897382719475\n",
      "For 29 term, pi = 3.1760651768684385\n",
      "For 30 term, pi = 3.108268566698947\n",
      "For 31 term, pi = 3.1738423371907505\n",
      "For 32 term, pi = 3.110350273698687\n",
      "For 33 term, pi = 3.1718887352371485\n",
      "For 34 term, pi = 3.112187242699835\n",
      "For 35 term, pi = 3.1701582571925884\n",
      "For 36 term, pi = 3.1138202290235744\n",
      "For 37 term, pi = 3.1686147495715193\n",
      "For 38 term, pi = 3.115281416238186\n",
      "For 39 term, pi = 3.167229468186238\n",
      "For 40 term, pi = 3.116596556793833\n",
      "For 41 term, pi = 3.1659792728432157\n",
      "For 42 term, pi = 3.117786501758878\n",
      "For 43 term, pi = 3.1648453252882898\n",
      "For 44 term, pi = 3.118868313794037\n",
      "For 45 term, pi = 3.163812134018756\n",
      "For 46 term, pi = 3.1198560900627124\n",
      "For 47 term, pi = 3.1628668427508844\n",
      "For 48 term, pi = 3.1207615795929895\n",
      "For 49 term, pi = 3.161998692995051\n",
      "For 50 term, pi = 3.121594652591011\n",
      "For 51 term, pi = 3.1611986129870506\n",
      "For 52 term, pi = 3.12236366153074\n",
      "For 53 term, pi = 3.160458899625978\n",
      "For 54 term, pi = 3.1230757220558845\n",
      "For 55 term, pi = 3.1597729697623063\n",
      "For 56 term, pi = 3.12373693372627\n",
      "For 57 term, pi = 3.159135163814766\n",
      "For 58 term, pi = 3.124352555119114\n",
      "For 59 term, pi = 3.158540589307148\n",
      "For 60 term, pi = 3.1249271439289967\n",
      "For 61 term, pi = 3.157984995168666\n",
      "For 62 term, pi = 3.125464669965414\n",
      "For 63 term, pi = 3.157464669965414\n",
      "For 64 term, pi = 3.125968606973288\n",
      "For 65 term, pi = 3.1569763589112725\n",
      "For 66 term, pi = 3.1264420077662343\n",
      "For 67 term, pi = 3.156517195736159\n",
      "For 68 term, pi = 3.126887566106529\n",
      "For 69 term, pi = 3.1560846463985\n",
      "For 70 term, pi = 3.127307667981234\n",
      "For 71 term, pi = 3.155676462307475\n",
      "For 72 term, pi = 3.127704434335447\n",
      "For 73 term, pi = 3.155290641231999\n",
      "For 74 term, pi = 3.1280797568782575\n",
      "For 75 term, pi = 3.15492539446215\n",
      "For 76 term, pi = 3.1284353282369843\n",
      "For 77 term, pi = 3.1545791190866574\n",
      "For 78 term, pi = 3.128772667473754\n",
      "For 79 term, pi = 3.1542503744801236\n",
      "For 80 term, pi = 3.129093141775721\n",
      "For 81 term, pi = 3.1539378622726155\n",
      "For 82 term, pi = 3.129397984972002\n",
      "For 83 term, pi = 3.1536404092144266\n",
      "For 84 term, pi = 3.129688313406043\n",
      "For 85 term, pi = 3.1533569524592977\n",
      "For 86 term, pi = 3.129965139593801\n",
      "For 87 term, pi = 3.153086526877038\n",
      "For 88 term, pi = 3.1302293840198954\n",
      "For 89 term, pi = 3.1528282540763923\n",
      "For 90 term, pi = 3.1304818853613083\n",
      "For 91 term, pi = 3.1525813328751204\n",
      "For 92 term, pi = 3.1307234093778527\n",
      "For 93 term, pi = 3.1523450309994745\n",
      "For 94 term, pi = 3.1309546566679236\n",
      "For 95 term, pi = 3.152118677831945\n",
      "For 96 term, pi = 3.131176269454982\n",
      "For 97 term, pi = 3.151901658056018\n",
      "For 98 term, pi = 3.1313888375431977\n",
      "For 99 term, pi = 3.1516934060711166\n",
      "For 100 term, pi = 3.1315929035585537\n",
      "For 101 term, pi = 3.1514934010709914\n",
      "For 102 term, pi = 3.1317889675734545\n",
      "For 103 term, pi = 3.1513011626954057\n",
      "For 104 term, pi = 3.131977491197821\n",
      "For 105 term, pi = 3.1511162471786824\n",
      "For 106 term, pi = 3.1321589012071183\n",
      "For 107 term, pi = 3.150938243930123\n",
      "For 108 term, pi = 3.132333592767332\n",
      "For 109 term, pi = 3.1507667724908344\n",
      "For 110 term, pi = 3.1325019323081857\n",
      "For 111 term, pi = 3.150601479819498\n",
      "For 112 term, pi = 3.132664260088556\n",
      "For 113 term, pi = 3.150442037866334\n",
      "For 114 term, pi = 3.1328208924918846\n",
      "For 115 term, pi = 3.1502881414001815\n",
      "For 116 term, pi = 3.1329721240841644\n",
      "For 117 term, pi = 3.150139506058413\n",
      "For 118 term, pi = 3.1331182294626685\n",
      "For 119 term, pi = 3.14999586659347\n",
      "For 120 term, pi = 3.13325946491983\n",
      "For 121 term, pi = 3.149856975293274\n",
      "For 122 term, pi = 3.1333960699434797\n",
      "For 123 term, pi = 3.149722600555725\n",
      "For 124 term, pi = 3.133528268571919\n",
      "For 125 term, pi = 3.1495925256000317\n",
      "For 126 term, pi = 3.133656270619952\n",
      "For 127 term, pi = 3.149466547299794\n",
      "For 128 term, pi = 3.13378027278999\n",
      "For 129 term, pi = 3.1493444751246202\n",
      "For 130 term, pi = 3.133900459680605\n",
      "For 131 term, pi = 3.1492261301786892\n",
      "For 132 term, pi = 3.134017004703404\n",
      "For 133 term, pi = 3.1491113443260454\n",
      "For 134 term, pi = 3.1341300709178057\n",
      "For 135 term, pi = 3.148999959393642\n",
      "For 136 term, pi = 3.1342398117921664\n",
      "For 137 term, pi = 3.148891826444181\n",
      "For 138 term, pi = 3.1343463718987263\n",
      "For 139 term, pi = 3.148786805111723\n",
      "For 140 term, pi = 3.134449887548999\n",
      "For 141 term, pi = 3.1486847629938386\n",
      "For 142 term, pi = 3.134550487375464\n",
      "For 143 term, pi = 3.1485855750947622\n",
      "For 144 term, pi = 3.134648292864797\n",
      "For 145 term, pi = 3.1484891233146244\n",
      "For 146 term, pi = 3.1347434188472705\n",
      "For 147 term, pi = 3.1483952959803765\n",
      "For 148 term, pi = 3.1348359739464784\n",
      "For 149 term, pi = 3.148303987414492\n",
      "For 150 term, pi = 3.134926060993087\n",
      "For 151 term, pi = 3.1482150975379377\n",
      "For 152 term, pi = 3.1350137774059244\n",
      "For 153 term, pi = 3.148128531504285\n",
      "For 154 term, pi = 3.135099215543373\n",
      "For 155 term, pi = 3.148044199362143\n",
      "For 156 term, pi = 3.135182463027738\n",
      "For 157 term, pi = 3.147962015743393\n",
      "For 158 term, pi = 3.1352636030449803\n",
      "For 159 term, pi = 3.1478818995749487\n",
      "For 160 term, pi = 3.1353427146219706\n",
      "For 161 term, pi = 3.1478037738120017\n",
      "For 162 term, pi = 3.135419872883209\n",
      "For 163 term, pi = 3.1477275651909014\n",
      "For 164 term, pi = 3.1354951492887606\n",
      "For 165 term, pi = 3.1476532040000067\n",
      "For 166 term, pi = 3.1355686118549917\n",
      "For 167 term, pi = 3.147580623867004\n",
      "For 168 term, pi = 3.135640325359541\n",
      "For 169 term, pi = 3.1475097615613215\n",
      "For 170 term, pi = 3.1357103515318228\n",
      "For 171 term, pi = 3.147440556810415\n",
      "For 172 term, pi = 3.1357787492302402\n",
      "For 173 term, pi = 3.1473729521287908\n",
      "For 174 term, pi = 3.1358455746071767\n",
      "For 175 term, pi = 3.1473068926587526\n",
      "For 176 term, pi = 3.1359108812627414\n",
      "For 177 term, pi = 3.1472423260219484\n",
      "For 178 term, pi = 3.1359747203881456\n",
      "For 179 term, pi = 3.1471792021808627\n",
      "For 180 term, pi = 3.136037140899526\n",
      "For 181 term, pi = 3.147117473309498\n",
      "For 182 term, pi = 3.1360981895629414\n",
      "For 183 term, pi = 3.1470570936725304\n",
      "For 184 term, pi = 3.1361579111112223\n",
      "For 185 term, pi = 3.1469980195123064\n",
      "For 186 term, pi = 3.1362163483532766\n",
      "For 187 term, pi = 3.146940208943089\n",
      "For 188 term, pi = 3.136273542276422\n",
      "For 189 term, pi = 3.146883621852019\n",
      "For 190 term, pi = 3.1363295321422564\n",
      "For 191 term, pi = 3.1468282198062982\n",
      "For 192 term, pi = 3.136384355576533\n",
      "For 193 term, pi = 3.1467739659661436\n",
      "For 194 term, pi = 3.136438048653482\n",
      "For 195 term, pi = 3.1467208250030967\n",
      "For 196 term, pi = 3.1364906459749635\n",
      "For 197 term, pi = 3.1466687630233094\n",
      "For 198 term, pi = 3.1365421807448284\n",
      "For 199 term, pi = 3.146617747495458\n",
      "For 200 term, pi = 3.136592684838816\n",
      "For 201 term, pi = 3.1465677471829556\n",
      "For 202 term, pi = 3.1366421888703004\n",
      "For 203 term, pi = 3.146518732080177\n",
      "For 204 term, pi = 3.136690722252167\n",
      "For 205 term, pi = 3.1464706733524115\n",
      "For 206 term, pi = 3.136738313255088\n",
      "For 207 term, pi = 3.146423543279301\n",
      "For 208 term, pi = 3.1367849890624337\n",
      "For 209 term, pi = 3.1463773152015224\n",
      "For 210 term, pi = 3.1368307758220473\n",
      "For 211 term, pi = 3.1463319634705034\n",
      "For 212 term, pi = 3.1368756986950896\n",
      "For 213 term, pi = 3.146287463400972\n",
      "For 214 term, pi = 3.136919781902143\n",
      "For 215 term, pi = 3.1462437912261523\n",
      "For 216 term, pi = 3.1369630487667557\n",
      "For 217 term, pi = 3.146200924055439\n",
      "For 218 term, pi = 3.1370055217565884\n",
      "For 219 term, pi = 3.1461588398343916\n",
      "For 220 term, pi = 3.1370472225223187\n",
      "For 221 term, pi = 3.1461175173068994\n",
      "For 222 term, pi = 3.137088171934439\n",
      "For 223 term, pi = 3.1460769359793828\n",
      "For 224 term, pi = 3.137128390118085\n",
      "For 225 term, pi = 3.1460370760869045\n",
      "For 226 term, pi = 3.1371678964860177\n",
      "For 227 term, pi = 3.145997918561073\n",
      "For 228 term, pi = 3.137206709769864\n",
      "For 229 term, pi = 3.1459594449996233\n",
      "For 230 term, pi = 3.137244848049732\n",
      "For 231 term, pi = 3.1459216376375845\n",
      "For 232 term, pi = 3.137282328782293\n",
      "For 233 term, pi = 3.1458844793199274\n",
      "For 234 term, pi = 3.137319168827422\n",
      "For 235 term, pi = 3.14584795347561\n",
      "For 236 term, pi = 3.1373553844734867\n",
      "For 237 term, pi = 3.145812044092937\n",
      "For 238 term, pi = 3.1373909914613582\n",
      "For 239 term, pi = 3.1457767356961592\n",
      "For 240 term, pi = 3.137426005007224\n",
      "For 241 term, pi = 3.1457420133232326\n",
      "For 242 term, pi = 3.1374604398242676\n",
      "For 243 term, pi = 3.14570786250468\n",
      "For 244 term, pi = 3.1374943101432837\n",
      "For 245 term, pi = 3.145674269243488\n",
      "For 246 term, pi = 3.1375276297322863\n",
      "For 247 term, pi = 3.145641219995978\n",
      "For 248 term, pi = 3.1375604119151697\n",
      "For 249 term, pi = 3.1456087016536003\n",
      "For 250 term, pi = 3.137592669589472\n",
      "For 251 term, pi = 3.1455767015256\n",
      "For 252 term, pi = 3.1376244152432937\n",
      "For 253 term, pi = 3.1455452073225016\n",
      "For 254 term, pi = 3.137655660971417\n",
      "For 255 term, pi = 3.1455142071403754\n",
      "For 256 term, pi = 3.137686418490669\n",
      "For 257 term, pi = 3.145483689445835\n",
      "For 258 term, pi = 3.137716699154573\n",
      "For 259 term, pi = 3.14545364306173\n",
      "For 260 term, pi = 3.1377465139673175\n",
      "For 261 term, pi = 3.145424057153498\n",
      "For 262 term, pi = 3.137775873597093\n",
      "For 263 term, pi = 3.1453949212161403\n",
      "For 264 term, pi = 3.1378047883888156\n",
      "For 265 term, pi = 3.1453662250617835\n",
      "For 266 term, pi = 3.1378332683762844\n",
      "For 267 term, pi = 3.1453379588078043\n",
      "For 268 term, pi = 3.1378613232937855\n",
      "For 269 term, pi = 3.1453101128654803\n",
      "For 270 term, pi = 3.137888962587187\n",
      "For 271 term, pi = 3.1452826779291465\n",
      "For 272 term, pi = 3.1379161954245425\n",
      "For 273 term, pi = 3.145255644965827\n",
      "For 274 term, pi = 3.1379430307062295\n",
      "For 275 term, pi = 3.145229005205319\n",
      "For 276 term, pi = 3.1379694770746474\n",
      "For 277 term, pi = 3.1452027501307054\n",
      "For 278 term, pi = 3.1379955429234982\n",
      "For 279 term, pi = 3.145176871469279\n",
      "For 280 term, pi = 3.1380212364066673\n",
      "For 281 term, pi = 3.145151361183851\n",
      "For 282 term, pi = 3.1380465654467287\n",
      "For 283 term, pi = 3.1451262114644276\n",
      "For 284 term, pi = 3.1380715377430874\n",
      "For 285 term, pi = 3.1451014147202403\n",
      "For 286 term, pi = 3.138096160779785\n",
      "For 287 term, pi = 3.145076963572106\n",
      "For 288 term, pi = 3.138120441832976\n",
      "For 289 term, pi = 3.1450528508451074\n",
      "For 290 term, pi = 3.1381443879780955\n",
      "For 291 term, pi = 3.145029069561572\n",
      "For 292 term, pi = 3.138168006096735\n",
      "For 293 term, pi = 3.1450056129343418\n",
      "For 294 term, pi = 3.1381913028832344\n",
      "For 295 term, pi = 3.1449824743603143\n",
      "For 296 term, pi = 3.138214284851008\n",
      "For 297 term, pi = 3.144959647414246\n",
      "For 298 term, pi = 3.1382369583386156\n",
      "For 299 term, pi = 3.1449371258428034\n",
      "For 300 term, pi = 3.1382593295155914\n",
      "For 301 term, pi = 3.1449149035588526\n",
      "For 302 term, pi = 3.13828140438804\n",
      "For 303 term, pi = 3.1448929746359737\n",
      "For 304 term, pi = 3.1383031888040134\n",
      "For 305 term, pi = 3.1448713333031924\n",
      "For 306 term, pi = 3.1383246884586753\n",
      "For 307 term, pi = 3.144849973939915\n",
      "For 308 term, pi = 3.138345908899265\n",
      "For 309 term, pi = 3.144828891071064\n",
      "For 310 term, pi = 3.1383668555298687\n",
      "For 311 term, pi = 3.144808079362397\n",
      "For 312 term, pi = 3.1383875336160085\n",
      "For 313 term, pi = 3.1447875336160087\n",
      "For 314 term, pi = 3.138407948289055\n",
      "For 315 term, pi = 3.1447672487660023\n",
      "For 316 term, pi = 3.1384281045504716\n",
      "For 317 term, pi = 3.1447472198743265\n",
      "For 318 term, pi = 3.138448007275901\n",
      "For 319 term, pi = 3.1447274421267646\n",
      "For 320 term, pi = 3.1384676612190963\n",
      "For 321 term, pi = 3.1447079108290805\n",
      "For 322 term, pi = 3.138487071015706\n",
      "For 323 term, pi = 3.1446886214033025\n",
      "For 324 term, pi = 3.1385062411869193\n",
      "For 325 term, pi = 3.144669569384146\n",
      "For 326 term, pi = 3.1385251761429784\n",
      "For 327 term, pi = 3.1446507504155665\n",
      "For 328 term, pi = 3.138543880186559\n",
      "For 329 term, pi = 3.1446321602474416\n",
      "For 330 term, pi = 3.1385623575160304\n",
      "For 331 term, pi = 3.1446137947323693\n",
      "For 332 term, pi = 3.1385806122285986\n",
      "For 333 term, pi = 3.1445956498225835\n",
      "For 334 term, pi = 3.1385986483233332\n",
      "For 335 term, pi = 3.1445777215669803\n",
      "For 336 term, pi = 3.1386164697040893\n",
      "For 337 term, pi = 3.1445600061082497\n",
      "For 338 term, pi = 3.1386340801823236\n",
      "For 339 term, pi = 3.144542499680108\n",
      "For 340 term, pi = 3.1386514834798134\n",
      "For 341 term, pi = 3.14452519860463\n",
      "For 342 term, pi = 3.138668683231277\n",
      "For 343 term, pi = 3.1445080992896712\n",
      "For 344 term, pi = 3.1386856829869054\n",
      "For 345 term, pi = 3.144491198226383\n",
      "For 346 term, pi = 3.138702486214805\n",
      "For 347 term, pi = 3.144474491986811\n",
      "For 348 term, pi = 3.1387190963033578\n",
      "For 349 term, pi = 3.144457977221579\n",
      "For 350 term, pi = 3.138735516563496\n",
      "For 351 term, pi = 3.1444416506576474\n",
      "For 352 term, pi = 3.138751750230905\n",
      "For 353 term, pi = 3.1444255090961533\n",
      "For 354 term, pi = 3.1387678004681474\n",
      "For 355 term, pi = 3.1444095494103195\n",
      "For 356 term, pi = 3.138783670366719\n",
      "For 357 term, pi = 3.1443937685434373\n",
      "For 358 term, pi = 3.138799362949032\n",
      "For 359 term, pi = 3.1443781635069117\n",
      "For 360 term, pi = 3.138814881170333\n",
      "For 361 term, pi = 3.1443627313783775\n",
      "For 362 term, pi = 3.138830227920563\n",
      "For 363 term, pi = 3.1443474692998734\n",
      "For 364 term, pi = 3.138845406026146\n",
      "For 365 term, pi = 3.144332374476077\n",
      "For 366 term, pi = 3.138860418251727\n",
      "For 367 term, pi = 3.1443174441726\n",
      "For 368 term, pi = 3.138875267301852\n",
      "For 369 term, pi = 3.144302675714335\n",
      "For 370 term, pi = 3.1388899558225893\n",
      "For 371 term, pi = 3.144288066483858\n",
      "For 372 term, pi = 3.138904486403104\n",
      "For 373 term, pi = 3.1442736139198826\n",
      "For 374 term, pi = 3.1389188615771784\n",
      "For 375 term, pi = 3.144259315515763\n",
      "For 376 term, pi = 3.1389330838246847\n",
      "For 377 term, pi = 3.1442451688180446\n",
      "For 378 term, pi = 3.1389471555730113\n",
      "For 379 term, pi = 3.144231171425059\n",
      "For 380 term, pi = 3.1389610791984452\n",
      "For 381 term, pi = 3.1442173209855673\n",
      "For 382 term, pi = 3.138974857027507\n",
      "For 383 term, pi = 3.1442036151974415\n",
      "For 384 term, pi = 3.13898849133825\n",
      "For 385 term, pi = 3.1441900518063903\n",
      "For 386 term, pi = 3.1390019843615136\n",
      "For 387 term, pi = 3.144176628604722\n",
      "For 388 term, pi = 3.139015338282141\n",
      "For 389 term, pi = 3.1441633434301464\n",
      "For 390 term, pi = 3.1390285552401593\n",
      "For 391 term, pi = 3.1441501941646153\n",
      "For 392 term, pi = 3.1390416373319203\n",
      "For 393 term, pi = 3.144137178733194\n",
      "For 394 term, pi = 3.139054586611212\n",
      "For 395 term, pi = 3.1441242951029738\n",
      "For 396 term, pi = 3.1390674050903313\n",
      "For 397 term, pi = 3.1441115412820086\n",
      "For 398 term, pi = 3.139080094741128\n",
      "For 399 term, pi = 3.1440989153182923\n",
      "For 400 term, pi = 3.1390926574960143\n",
      "For 401 term, pi = 3.144086415298761\n",
      "For 402 term, pi = 3.1391050952489477\n",
      "For 403 term, pi = 3.1440740393483266\n",
      "For 404 term, pi = 3.139117409856381\n",
      "For 405 term, pi = 3.14406178562894\n",
      "For 406 term, pi = 3.139129603138188\n",
      "For 407 term, pi = 3.14404965233868\n",
      "For 408 term, pi = 3.139141676878557\n",
      "For 409 term, pi = 3.1440376377108703\n",
      "For 410 term, pi = 3.1391536328268654\n",
      "For 411 term, pi = 3.1440257400132237\n",
      "For 412 term, pi = 3.1391654726985214\n",
      "For 413 term, pi = 3.1440139575470063\n",
      "For 414 term, pi = 3.139177198175785\n",
      "For 415 term, pi = 3.1440022886462313\n",
      "For 416 term, pi = 3.139188810908566\n",
      "For 417 term, pi = 3.1439907316768734\n",
      "For 418 term, pi = 3.1392003125151966\n",
      "For 419 term, pi = 3.143979285036105\n",
      "For 420 term, pi = 3.1392117045831847\n",
      "For 421 term, pi = 3.143967947151556\n",
      "For 422 term, pi = 3.1392229886699425\n",
      "For 423 term, pi = 3.1439567164805933\n",
      "For 424 term, pi = 3.1392341663034977\n",
      "For 425 term, pi = 3.1439455915096226\n",
      "For 426 term, pi = 3.1392452389831833\n",
      "For 427 term, pi = 3.143934570753406\n",
      "For 428 term, pi = 3.139256208180307\n",
      "For 429 term, pi = 3.1439236527544026\n",
      "For 430 term, pi = 3.139267075338803\n",
      "For 431 term, pi = 3.1439128360821247\n",
      "For 432 term, pi = 3.1392778418758676\n",
      "For 433 term, pi = 3.143902119332515\n",
      "For 434 term, pi = 3.1392885091825726\n",
      "For 435 term, pi = 3.1438915011273365\n",
      "For 436 term, pi = 3.1392990786244663\n",
      "For 437 term, pi = 3.1438809801135843\n",
      "For 438 term, pi = 3.139309551542156\n",
      "For 439 term, pi = 3.1438705549629082\n",
      "For 440 term, pi = 3.1393199292518728\n",
      "For 441 term, pi = 3.1438602243710556\n",
      "For 442 term, pi = 3.139330213046027\n",
      "For 443 term, pi = 3.1438499870573264\n",
      "For 444 term, pi = 3.1393404041937414\n",
      "For 445 term, pi = 3.143839841764045\n",
      "For 446 term, pi = 3.139350503941374\n",
      "For 447 term, pi = 3.1438297872560437\n",
      "For 448 term, pi = 3.1393605135130267\n",
      "For 449 term, pi = 3.1438198223201614\n",
      "For 450 term, pi = 3.13937043411104\n",
      "For 451 term, pi = 3.143809945764758\n",
      "For 452 term, pi = 3.1393802669164748\n",
      "For 453 term, pi = 3.1438001564192373\n",
      "For 454 term, pi = 3.139390013089579\n",
      "For 455 term, pi = 3.143790453133583\n",
      "For 456 term, pi = 3.1393996737702463\n",
      "For 457 term, pi = 3.1437808347779135\n",
      "For 458 term, pi = 3.13940925007846\n",
      "For 459 term, pi = 3.1437713002420367\n",
      "For 460 term, pi = 3.1394187431147245\n",
      "For 461 term, pi = 3.1437618484350285\n",
      "For 462 term, pi = 3.139428153960489\n",
      "For 463 term, pi = 3.143752478284813\n",
      "For 464 term, pi = 3.1394374836785564\n",
      "For 465 term, pi = 3.14374318873776\n",
      "For 466 term, pi = 3.139446733313485\n",
      "For 467 term, pi = 3.1437339787582865\n",
      "For 468 term, pi = 3.1394559038919763\n",
      "For 469 term, pi = 3.1437248473284756\n",
      "For 470 term, pi = 3.139464996423257\n",
      "For 471 term, pi = 3.143715793447699\n",
      "For 472 term, pi = 3.139474011899449\n",
      "For 473 term, pi = 3.1437068161322532\n",
      "For 474 term, pi = 3.139482951295928\n",
      "For 475 term, pi = 3.1436979144150006\n",
      "For 476 term, pi = 3.139491815571678\n",
      "For 477 term, pi = 3.143689087345025\n",
      "For 478 term, pi = 3.1395006056696326\n",
      "For 479 term, pi = 3.143680333987292\n",
      "For 480 term, pi = 3.1395093225170103\n",
      "For 481 term, pi = 3.1436716534223175\n",
      "For 482 term, pi = 3.1395179670256406\n",
      "For 483 term, pi = 3.143663044745848\n",
      "For 484 term, pi = 3.1395265400922803\n",
      "For 485 term, pi = 3.1436545070685447\n",
      "For 486 term, pi = 3.1395350425989257\n",
      "For 487 term, pi = 3.143646039515678\n",
      "For 488 term, pi = 3.1395434754131135\n",
      "For 489 term, pi = 3.143637641226829\n",
      "For 490 term, pi = 3.139551839388218\n",
      "For 491 term, pi = 3.1436293113555984\n",
      "For 492 term, pi = 3.1395601353637366\n",
      "For 493 term, pi = 3.14362104906932\n",
      "For 494 term, pi = 3.1395683641655716\n",
      "For 495 term, pi = 3.143612853548787\n",
      "For 496 term, pi = 3.1395765266063047\n",
      "For 497 term, pi = 3.1436047239879765\n",
      "For 498 term, pi = 3.139584623485464\n",
      "For 499 term, pi = 3.143596659593789\n",
      "For 500 term, pi = 3.139592655589785\n",
      "For 501 term, pi = 3.143588659585789\n",
      "For 502 term, pi = 3.139600623693466\n",
      "For 503 term, pi = 3.1435807231959534\n",
      "For 504 term, pi = 3.139608528558416\n",
      "For 505 term, pi = 3.143572849668426\n",
      "For 506 term, pi = 3.1396163709344993\n",
      "For 507 term, pi = 3.1435650382592772\n",
      "For 508 term, pi = 3.13962415155977\n",
      "For 509 term, pi = 3.1435572882362695\n",
      "For 510 term, pi = 3.139631871160705\n",
      "For 511 term, pi = 3.1435495988786286\n",
      "For 512 term, pi = 3.139639530452431\n",
      "For 513 term, pi = 3.1435419694768214\n",
      "For 514 term, pi = 3.139647130138944\n",
      "For 515 term, pi = 3.143534399332336\n",
      "For 516 term, pi = 3.139654670913325\n",
      "For 517 term, pi = 3.1435268877574685\n",
      "For 518 term, pi = 3.1396621534579516\n",
      "For 519 term, pi = 3.1435194340751167\n",
      "For 520 term, pi = 3.139669578444703\n",
      "For 521 term, pi = 3.1435120376185743\n",
      "For 522 term, pi = 3.139676946535161\n",
      "For 523 term, pi = 3.1435046977313332\n",
      "For 524 term, pi = 3.139684258380808\n",
      "For 525 term, pi = 3.1434974137668896\n",
      "For 526 term, pi = 3.139691514623217\n",
      "For 527 term, pi = 3.143490185088554\n",
      "For 528 term, pi = 3.1396987158942413\n",
      "For 529 term, pi = 3.143483011069265\n",
      "For 530 term, pi = 3.139705862816196\n",
      "For 531 term, pi = 3.1434758910914082\n",
      "For 532 term, pi = 3.1397129560020387\n",
      "For 533 term, pi = 3.14346882454664\n",
      "For 534 term, pi = 3.1397199960555433\n",
      "For 535 term, pi = 3.1434618108357117\n",
      "For 536 term, pi = 3.1397269835714727\n",
      "For 537 term, pi = 3.143454849368304\n",
      "For 538 term, pi = 3.139733919135746\n",
      "For 539 term, pi = 3.1434479395628583\n",
      "For 540 term, pi = 3.1397408033256013\n",
      "For 541 term, pi = 3.1434410808464155\n",
      "For 542 term, pi = 3.139747636709758\n",
      "For 543 term, pi = 3.1434342726544586\n",
      "For 544 term, pi = 3.139754419848571\n",
      "For 545 term, pi = 3.1434275144307566\n",
      "For 546 term, pi = 3.1397611532941845\n",
      "For 547 term, pi = 3.143420805627213\n",
      "For 548 term, pi = 3.139767837590683\n",
      "For 549 term, pi = 3.1434141457037184\n",
      "For 550 term, pi = 3.139774473274237\n",
      "For 551 term, pi = 3.1434075341280066\n",
      "For 552 term, pi = 3.1397810608732466\n",
      "For 553 term, pi = 3.143400970375509\n",
      "For 554 term, pi = 3.139787600908481\n",
      "For 555 term, pi = 3.1433944539292202\n",
      "For 556 term, pi = 3.1397940938932165\n",
      "For 557 term, pi = 3.14338798427956\n",
      "For 558 term, pi = 3.1398005403333715\n",
      "For 559 term, pi = 3.1433815609242397\n",
      "For 560 term, pi = 3.1398069407276354\n",
      "For 561 term, pi = 3.143375183368135\n",
      "For 562 term, pi = 3.139813295567601\n",
      "For 563 term, pi = 3.1433688511231566\n",
      "For 564 term, pi = 3.1398196053378857\n",
      "For 565 term, pi = 3.143362563708125\n",
      "For 566 term, pi = 3.139825870516259\n",
      "For 567 term, pi = 3.143356320648651\n",
      "For 568 term, pi = 3.139832091573761\n",
      "For 569 term, pi = 3.1433501214770154\n",
      "For 570 term, pi = 3.1398382689748203\n",
      "For 571 term, pi = 3.143343965732051\n",
      "For 572 term, pi = 3.1398444031773702\n",
      "For 573 term, pi = 3.1433378529590295\n",
      "For 574 term, pi = 3.1398504946329613\n",
      "For 575 term, pi = 3.1433317827095495\n",
      "For 576 term, pi = 3.1398565437868737\n",
      "For 577 term, pi = 3.143325754541427\n",
      "For 578 term, pi = 3.1398625510782234\n",
      "For 579 term, pi = 3.1433197680185865\n",
      "For 580 term, pi = 3.1398685169400706\n",
      "For 581 term, pi = 3.1433138227109576\n",
      "For 582 term, pi = 3.1398744417995217\n",
      "For 583 term, pi = 3.1433079181943713\n",
      "For 584 term, pi = 3.139880326077833\n",
      "For 585 term, pi = 3.143302054050459\n",
      "For 586 term, pi = 3.1398861701905103\n",
      "For 587 term, pi = 3.1432962298665545\n",
      "For 588 term, pi = 3.1398919745474054\n",
      "For 589 term, pi = 3.143290445235596\n",
      "For 590 term, pi = 3.139897739552814\n",
      "For 591 term, pi = 3.1432846997560318\n",
      "For 592 term, pi = 3.139903465605567\n",
      "For 593 term, pi = 3.143278993031727\n",
      "For 594 term, pi = 3.139909153099124\n",
      "For 595 term, pi = 3.143273324671874\n",
      "For 596 term, pi = 3.1399148024216643\n",
      "For 597 term, pi = 3.1432676942909015\n",
      "For 598 term, pi = 3.1399204139561734\n",
      "For 599 term, pi = 3.1432621015083875\n",
      "For 600 term, pi = 3.139925988080531\n",
      "For 601 term, pi = 3.143256545948974\n",
      "For 602 term, pi = 3.139931525167594\n",
      "For 603 term, pi = 3.143251027242283\n",
      "For 604 term, pi = 3.139937025585282\n",
      "For 605 term, pi = 3.143245545022834\n",
      "For 606 term, pi = 3.139942489696657\n",
      "For 607 term, pi = 3.143240098929963\n",
      "For 608 term, pi = 3.1399479178600043\n",
      "For 609 term, pi = 3.1432346886077447\n",
      "For 610 term, pi = 3.1399533104289095\n",
      "For 611 term, pi = 3.1432293137049125\n",
      "For 612 term, pi = 3.139958667752337\n",
      "For 613 term, pi = 3.143223973874786\n",
      "For 614 term, pi = 3.1399639901747047\n",
      "For 615 term, pi = 3.143218668775193\n",
      "For 616 term, pi = 3.1399692780359567\n",
      "For 617 term, pi = 3.143213398068398\n",
      "For 618 term, pi = 3.139974531671637\n",
      "For 619 term, pi = 3.1432081614210308\n",
      "For 620 term, pi = 3.1399797514129597\n",
      "For 621 term, pi = 3.1432029585040153\n",
      "For 622 term, pi = 3.1399849375868794\n",
      "For 623 term, pi = 3.143197788992502\n",
      "For 624 term, pi = 3.1399900905161586\n",
      "For 625 term, pi = 3.1431926525657983\n",
      "For 626 term, pi = 3.1399952105194355\n",
      "For 627 term, pi = 3.1431875489073047\n",
      "For 628 term, pi = 3.1400002979112887\n",
      "For 629 term, pi = 3.143182477704447\n",
      "For 630 term, pi = 3.1400053530023024\n",
      "For 631 term, pi = 3.143177438648615\n",
      "For 632 term, pi = 3.1400103760991294\n",
      "For 633 term, pi = 3.1431724314350977\n",
      "For 634 term, pi = 3.140015367504553\n",
      "For 635 term, pi = 3.1431674557630243\n",
      "For 636 term, pi = 3.1400203275175484\n",
      "For 637 term, pi = 3.143162511335302\n",
      "For 638 term, pi = 3.1400252564333413\n",
      "For 639 term, pi = 3.143157597858557\n",
      "For 640 term, pi = 3.140030154543467\n",
      "For 641 term, pi = 3.1431527150430765\n",
      "For 642 term, pi = 3.140035022135828\n",
      "For 643 term, pi = 3.143147862602754\n",
      "For 644 term, pi = 3.1400398594947507\n",
      "For 645 term, pi = 3.14314304025503\n",
      "For 646 term, pi = 3.140044666901041\n",
      "For 647 term, pi = 3.14313824772084\n",
      "For 648 term, pi = 3.140049444632037\n",
      "For 649 term, pi = 3.143133484724558\n",
      "For 650 term, pi = 3.1400541929616637\n",
      "For 651 term, pi = 3.1431287509939465\n",
      "For 652 term, pi = 3.140058912160485\n",
      "For 653 term, pi = 3.1431240462601022\n",
      "For 654 term, pi = 3.1400636024957564\n",
      "For 655 term, pi = 3.1431193702574065\n",
      "For 656 term, pi = 3.140068264231472\n",
      "For 657 term, pi = 3.143114722723475\n",
      "For 658 term, pi = 3.140072897628418\n",
      "For 659 term, pi = 3.143110103399109\n",
      "For 660 term, pi = 3.140077502944219\n",
      "For 661 term, pi = 3.1431055120282463\n",
      "For 662 term, pi = 3.140082080433386\n",
      "For 663 term, pi = 3.1431009483579144\n",
      "For 664 term, pi = 3.1400866303473642\n",
      "For 665 term, pi = 3.1430964121381844\n",
      "For 666 term, pi = 3.140091152934578\n",
      "For 667 term, pi = 3.1430919031221247\n",
      "For 668 term, pi = 3.140095648440477\n",
      "For 669 term, pi = 3.1430874210657573\n",
      "For 670 term, pi = 3.1401001171075795\n",
      "For 671 term, pi = 3.143082965728012\n",
      "For 672 term, pi = 3.1401045591755175\n",
      "For 673 term, pi = 3.143078536870685\n",
      "For 674 term, pi = 3.140108974881078\n",
      "For 675 term, pi = 3.1430741342583945\n",
      "For 676 term, pi = 3.1401133644582466\n",
      "For 677 term, pi = 3.1430697576585422\n",
      "For 678 term, pi = 3.140117728138247\n",
      "For 679 term, pi = 3.1430654068412682\n",
      "For 680 term, pi = 3.140122066149583\n",
      "For 681 term, pi = 3.143061081579414\n",
      "For 682 term, pi = 3.140126378718079\n",
      "For 683 term, pi = 3.143056781648482\n",
      "For 684 term, pi = 3.1401306660669164\n",
      "For 685 term, pi = 3.143052506826595\n",
      "For 686 term, pi = 3.1401349284166753\n",
      "For 687 term, pi = 3.143048256894461\n",
      "For 688 term, pi = 3.1401391659853704\n",
      "For 689 term, pi = 3.143044031635334\n",
      "For 690 term, pi = 3.1401433789884887\n",
      "For 691 term, pi = 3.1430398308349767\n",
      "For 692 term, pi = 3.140147567639026\n",
      "For 693 term, pi = 3.143035654281625\n",
      "For 694 term, pi = 3.1401517321475225\n",
      "For 695 term, pi = 3.143031501765953\n",
      "For 696 term, pi = 3.1401558727220995\n",
      "For 697 term, pi = 3.143027373081037\n",
      "For 698 term, pi = 3.140159989568492\n",
      "For 699 term, pi = 3.143023268022322\n",
      "For 700 term, pi = 3.1401640828900845\n",
      "For 701 term, pi = 3.1430191863875865\n",
      "For 702 term, pi = 3.140168152887943\n",
      "For 703 term, pi = 3.143015127976911\n",
      "For 704 term, pi = 3.1401721997608485\n",
      "For 705 term, pi = 3.143011092592644\n",
      "For 706 term, pi = 3.14017622370533\n",
      "For 707 term, pi = 3.143007080039371\n",
      "For 708 term, pi = 3.1401802249156963\n",
      "For 709 term, pi = 3.143003090123883\n",
      "For 710 term, pi = 3.140184203584066\n",
      "For 711 term, pi = 3.142999122655143\n",
      "For 712 term, pi = 3.1401881599003993\n",
      "For 713 term, pi = 3.142995177444259\n",
      "For 714 term, pi = 3.140192094052528\n",
      "For 715 term, pi = 3.1429912543044525\n",
      "For 716 term, pi = 3.1401960062261853\n",
      "For 717 term, pi = 3.142987353051028\n",
      "For 718 term, pi = 3.140199896605035\n",
      "For 719 term, pi = 3.1429834735013467\n",
      "For 720 term, pi = 3.1402037653707002\n",
      "For 721 term, pi = 3.1429796154747947\n",
      "For 722 term, pi = 3.140207612702792\n",
      "For 723 term, pi = 3.1429757787927572\n",
      "For 724 term, pi = 3.1402114387789357\n",
      "For 725 term, pi = 3.142971963278591\n",
      "For 726 term, pi = 3.1402152437748003\n",
      "For 727 term, pi = 3.1429681687575943\n",
      "For 728 term, pi = 3.1402190278641235\n",
      "For 729 term, pi = 3.1429643950569854\n",
      "For 730 term, pi = 3.14022279121874\n",
      "For 731 term, pi = 3.142960642005872\n",
      "For 732 term, pi = 3.140226534008606\n",
      "For 733 term, pi = 3.142956909435227\n",
      "For 734 term, pi = 3.1402302564018254\n",
      "For 735 term, pi = 3.1429531971778637\n",
      "For 736 term, pi = 3.1402339585646755\n",
      "For 737 term, pi = 3.1429495050684095\n",
      "For 738 term, pi = 3.14023764066163\n",
      "For 739 term, pi = 3.142945832943282\n",
      "For 740 term, pi = 3.140241302855385\n",
      "For 741 term, pi = 3.142942180640665\n",
      "For 742 term, pi = 3.140244945306882\n",
      "For 743 term, pi = 3.142938548000485\n",
      "For 744 term, pi = 3.1402485681753336\n",
      "For 745 term, pi = 3.1429349348643867\n",
      "For 746 term, pi = 3.140252171618243\n",
      "For 747 term, pi = 3.142931341075711\n",
      "For 748 term, pi = 3.14025575579143\n",
      "For 749 term, pi = 3.142927766479473\n",
      "For 750 term, pi = 3.1402593208490526\n",
      "For 751 term, pi = 3.142924210922337\n",
      "For 752 term, pi = 3.140262866943628\n",
      "For 753 term, pi = 3.142920674252598\n",
      "For 754 term, pi = 3.140266394226055\n",
      "For 755 term, pi = 3.142917156320157\n",
      "For 756 term, pi = 3.140269902845637\n",
      "For 757 term, pi = 3.1429136569765026\n",
      "For 758 term, pi = 3.1402733929501\n",
      "For 759 term, pi = 3.1429101760746883\n",
      "For 760 term, pi = 3.1402768646856165\n",
      "For 761 term, pi = 3.1429067134693116\n",
      "For 762 term, pi = 3.1402803181968233\n",
      "For 763 term, pi = 3.1429032690164953\n",
      "For 764 term, pi = 3.1402837536268424\n",
      "For 765 term, pi = 3.1428998425738666\n",
      "For 766 term, pi = 3.1402871711173024\n",
      "For 767 term, pi = 3.142896434000538\n",
      "For 768 term, pi = 3.1402905708083555\n",
      "For 769 term, pi = 3.1428930431570867\n",
      "For 770 term, pi = 3.1402939528386984\n",
      "For 771 term, pi = 3.142889669905538\n",
      "For 772 term, pi = 3.1402973173455897\n",
      "For 773 term, pi = 3.1428863141093437\n",
      "For 774 term, pi = 3.1403006644648706\n",
      "For 775 term, pi = 3.1428829756333663\n",
      "For 776 term, pi = 3.1403039943309805\n",
      "For 777 term, pi = 3.142879654343859\n",
      "For 778 term, pi = 3.140307307076978\n",
      "For 779 term, pi = 3.1428763501084487\n",
      "For 780 term, pi = 3.140310602834555\n",
      "For 781 term, pi = 3.1428730627961183\n",
      "For 782 term, pi = 3.140313881734058\n",
      "For 783 term, pi = 3.1428697922771893\n",
      "For 784 term, pi = 3.1403171439045026\n",
      "For 785 term, pi = 3.1428665384233043\n",
      "For 786 term, pi = 3.1403203894735907\n",
      "For 787 term, pi = 3.1428633011074116\n",
      "For 788 term, pi = 3.140323618567729\n",
      "For 789 term, pi = 3.142860080203747\n",
      "For 790 term, pi = 3.140326831312043\n",
      "For 791 term, pi = 3.142856875587818\n",
      "For 792 term, pi = 3.1403300278303954\n",
      "For 793 term, pi = 3.1428536871363892\n",
      "For 794 term, pi = 3.1403332082454\n",
      "For 795 term, pi = 3.1428505147274644\n",
      "For 796 term, pi = 3.140336372678439\n",
      "For 797 term, pi = 3.142847358240272\n",
      "For 798 term, pi = 3.1403395212496763\n",
      "For 799 term, pi = 3.142844217555249\n",
      "For 800 term, pi = 3.1403426540780757\n",
      "For 801 term, pi = 3.142841092554028\n",
      "For 802 term, pi = 3.1403457712814142\n",
      "For 803 term, pi = 3.1428379831194206\n",
      "For 804 term, pi = 3.140348872976297\n",
      "For 805 term, pi = 3.142834889135402\n",
      "For 806 term, pi = 3.14035195927817\n",
      "For 807 term, pi = 3.1428318104870976\n",
      "For 808 term, pi = 3.1403550303013392\n",
      "For 809 term, pi = 3.1428287470607703\n",
      "For 810 term, pi = 3.140358086158979\n",
      "For 811 term, pi = 3.142825698743803\n",
      "For 812 term, pi = 3.1403611269631497\n",
      "For 813 term, pi = 3.142822665424688\n",
      "For 814 term, pi = 3.140364152824811\n",
      "For 815 term, pi = 3.1428196469930123\n",
      "For 816 term, pi = 3.140367163853834\n",
      "For 817 term, pi = 3.1428166433394433\n",
      "For 818 term, pi = 3.1403701601590153\n",
      "For 819 term, pi = 3.1428136543557166\n",
      "For 820 term, pi = 3.14037314184809\n",
      "For 821 term, pi = 3.1428106799346227\n",
      "For 822 term, pi = 3.140376109027745\n",
      "For 823 term, pi = 3.142807719969994\n",
      "For 824 term, pi = 3.140379061803631\n",
      "For 825 term, pi = 3.1428047743566934\n",
      "For 826 term, pi = 3.140382000280376\n",
      "For 827 term, pi = 3.1428018429906\n",
      "For 828 term, pi = 3.140384924561597\n",
      "For 829 term, pi = 3.1427989257685978\n",
      "For 830 term, pi = 3.140387834749912\n",
      "For 831 term, pi = 3.142796022588563\n",
      "For 832 term, pi = 3.1403907309469514\n",
      "For 833 term, pi = 3.142793133349354\n",
      "For 834 term, pi = 3.140393613253373\n",
      "For 835 term, pi = 3.1427902579507965\n",
      "For 836 term, pi = 3.1403964817688697\n",
      "For 837 term, pi = 3.1427873962936754\n",
      "For 838 term, pi = 3.140399336592183\n",
      "For 839 term, pi = 3.14278454827972\n",
      "For 840 term, pi = 3.1404021778211137\n",
      "For 841 term, pi = 3.1427817138115954\n",
      "For 842 term, pi = 3.1404050055525343\n",
      "For 843 term, pi = 3.1427788927928906\n",
      "For 844 term, pi = 3.1404078198823986\n",
      "For 845 term, pi = 3.142776085128106\n",
      "For 846 term, pi = 3.1404106209057523\n",
      "For 847 term, pi = 3.1427732907226456\n",
      "For 848 term, pi = 3.140413408716746\n",
      "For 849 term, pi = 3.1427705094828036\n",
      "For 850 term, pi = 3.140416183408642\n",
      "For 851 term, pi = 3.1427677413157555\n",
      "For 852 term, pi = 3.1404189450738293\n",
      "For 853 term, pi = 3.142764986129548\n",
      "For 854 term, pi = 3.1404216938038303\n",
      "For 855 term, pi = 3.1427622438330873\n",
      "For 856 term, pi = 3.1404244296893116\n",
      "For 857 term, pi = 3.14275951433613\n",
      "For 858 term, pi = 3.140427152820095\n",
      "For 859 term, pi = 3.142756797549274\n",
      "For 860 term, pi = 3.140429863285167\n",
      "For 861 term, pi = 3.142754093383947\n",
      "For 862 term, pi = 3.1404325611726875\n",
      "For 863 term, pi = 3.1427514017523976\n",
      "For 864 term, pi = 3.1404352465700005\n",
      "For 865 term, pi = 3.142748722567687\n",
      "For 866 term, pi = 3.1404379195636434\n",
      "For 867 term, pi = 3.142746055743678\n",
      "For 868 term, pi = 3.140440580239355\n",
      "For 869 term, pi = 3.142743401195026\n",
      "For 870 term, pi = 3.1404432286820874\n",
      "For 871 term, pi = 3.1427407588371707\n",
      "For 872 term, pi = 3.140445864976012\n",
      "For 873 term, pi = 3.142738128586327\n",
      "For 874 term, pi = 3.1404484892045295\n",
      "For 875 term, pi = 3.142735510359475\n",
      "For 876 term, pi = 3.1404511014502803\n",
      "For 877 term, pi = 3.1427329040743532\n",
      "For 878 term, pi = 3.140453701795151\n",
      "For 879 term, pi = 3.142730309649448\n",
      "For 880 term, pi = 3.1404562903202837\n",
      "For 881 term, pi = 3.142727727003986\n",
      "For 882 term, pi = 3.140458867106085\n",
      "For 883 term, pi = 3.142725156057926\n",
      "For 884 term, pi = 3.140461432232233\n",
      "For 885 term, pi = 3.14272259673195\n",
      "For 886 term, pi = 3.140463985777687\n",
      "For 887 term, pi = 3.1427200489474556\n",
      "For 888 term, pi = 3.140466527820695\n",
      "For 889 term, pi = 3.1427175126265476\n",
      "For 890 term, pi = 3.1404690584388018\n",
      "For 891 term, pi = 3.14271498769203\n",
      "For 892 term, pi = 3.1404715777088557\n",
      "For 893 term, pi = 3.142712474067399\n",
      "For 894 term, pi = 3.1404740857070186\n",
      "For 895 term, pi = 3.142709971676834\n",
      "For 896 term, pi = 3.1404765825087715\n",
      "For 897 term, pi = 3.142707480445191\n",
      "For 898 term, pi = 3.1404790681889234\n",
      "For 899 term, pi = 3.142705000297994\n",
      "For 900 term, pi = 3.140481542821618\n",
      "For 901 term, pi = 3.1427025311614294\n",
      "For 902 term, pi = 3.1404840064803423\n",
      "For 903 term, pi = 3.1427000729623367\n",
      "For 904 term, pi = 3.140486459237932\n",
      "For 905 term, pi = 3.1426976256282027\n",
      "For 906 term, pi = 3.140488901166579\n",
      "For 907 term, pi = 3.142695189087153\n",
      "For 908 term, pi = 3.1404913323378416\n",
      "For 909 term, pi = 3.142692763267946\n",
      "For 910 term, pi = 3.140493752822646\n",
      "For 911 term, pi = 3.142690348099966\n",
      "For 912 term, pi = 3.1404961626912993\n",
      "For 913 term, pi = 3.142687943513217\n",
      "For 914 term, pi = 3.1404985620134904\n",
      "For 915 term, pi = 3.142685549438313\n",
      "For 916 term, pi = 3.1405009508583017\n",
      "For 917 term, pi = 3.142683165806474\n",
      "For 918 term, pi = 3.1405033292942126\n",
      "For 919 term, pi = 3.14268079254952\n",
      "For 920 term, pi = 3.140505697389107\n",
      "For 921 term, pi = 3.142678429599862\n",
      "For 922 term, pi = 3.14050805521028\n",
      "For 923 term, pi = 3.142676076890497\n",
      "For 924 term, pi = 3.140510402824444\n",
      "For 925 term, pi = 3.142673734355001\n",
      "For 926 term, pi = 3.140512740297735\n",
      "For 927 term, pi = 3.1426714019275246\n",
      "For 928 term, pi = 3.1405150676957185\n",
      "For 929 term, pi = 3.1426690795427836\n",
      "For 930 term, pi = 3.1405173850833967\n",
      "For 931 term, pi = 3.1426667671360566\n",
      "For 932 term, pi = 3.140519692525214\n",
      "For 933 term, pi = 3.1426644646431763\n",
      "For 934 term, pi = 3.1405219900850616\n",
      "For 935 term, pi = 3.1426621720005246\n",
      "For 936 term, pi = 3.140524277826286\n",
      "For 937 term, pi = 3.142659889145026\n",
      "For 938 term, pi = 3.1405265558116926\n",
      "For 939 term, pi = 3.1426576160141435\n",
      "For 940 term, pi = 3.1405288241035527\n",
      "For 941 term, pi = 3.1426553525458707\n",
      "For 942 term, pi = 3.140531082763608\n",
      "For 943 term, pi = 3.1426530986787276\n",
      "For 944 term, pi = 3.1405333318530784\n",
      "For 945 term, pi = 3.142650854351755\n",
      "For 946 term, pi = 3.1405355714326646\n",
      "For 947 term, pi = 3.142648619504508\n",
      "For 948 term, pi = 3.1405378015625556\n",
      "For 949 term, pi = 3.142646394077052\n",
      "For 950 term, pi = 3.140540022302434\n",
      "For 951 term, pi = 3.1426441780099563\n",
      "For 952 term, pi = 3.1405422337114803\n",
      "For 953 term, pi = 3.142641971244289\n",
      "For 954 term, pi = 3.140544435848379\n",
      "For 955 term, pi = 3.142639773721611\n",
      "For 956 term, pi = 3.1405466287713235\n",
      "For 957 term, pi = 3.142637585383974\n",
      "For 958 term, pi = 3.1405488125380208\n",
      "For 959 term, pi = 3.1426354061739104\n",
      "For 960 term, pi = 3.140550987205698\n",
      "For 961 term, pi = 3.142633236034433\n",
      "For 962 term, pi = 3.140553152831105\n",
      "For 963 term, pi = 3.1426310749090267\n",
      "For 964 term, pi = 3.140555309470521\n",
      "For 965 term, pi = 3.142628922741646\n",
      "For 966 term, pi = 3.140557457179761\n",
      "For 967 term, pi = 3.142626779476709\n",
      "For 968 term, pi = 3.140559596014177\n",
      "For 969 term, pi = 3.1426246450590916\n",
      "For 970 term, pi = 3.1405617260286633\n",
      "For 971 term, pi = 3.1426225194341244\n",
      "For 972 term, pi = 3.140563847277665\n",
      "For 973 term, pi = 3.142620402547588\n",
      "For 974 term, pi = 3.1405659598151794\n",
      "For 975 term, pi = 3.142618294345708\n",
      "For 976 term, pi = 3.1405680636947597\n",
      "For 977 term, pi = 3.1426161947751488\n",
      "For 978 term, pi = 3.1405701589695223\n",
      "For 979 term, pi = 3.1426141037830124\n",
      "For 980 term, pi = 3.14057224569215\n",
      "For 981 term, pi = 3.142612021316831\n",
      "For 982 term, pi = 3.1405743239148953\n",
      "For 983 term, pi = 3.1426099473245643\n",
      "For 984 term, pi = 3.1405763936895874\n",
      "For 985 term, pi = 3.142607881754595\n",
      "For 986 term, pi = 3.140578455067634\n",
      "For 987 term, pi = 3.142605824555723\n",
      "For 988 term, pi = 3.140580508100027\n",
      "For 989 term, pi = 3.142603775677164\n",
      "For 990 term, pi = 3.140582552837346\n",
      "For 991 term, pi = 3.1426017350685425\n",
      "For 992 term, pi = 3.140584589329763\n",
      "For 993 term, pi = 3.1425997026798886\n",
      "For 994 term, pi = 3.140586617627045\n",
      "For 995 term, pi = 3.142597678461635\n",
      "For 996 term, pi = 3.1405886377785612\n",
      "For 997 term, pi = 3.1425956623646125\n",
      "For 998 term, pi = 3.140590649833284\n",
      "For 999 term, pi = 3.142593654340044\n",
      "For 1000 term, pi = 3.140592653839794\n"
     ]
    }
   ],
   "source": [
    "## 3.14: Challenge: Approximating the Mathematical Constant pi \n",
    "setMax = int(input('Please input max term: '))\n",
    "pi = 0\n",
    "for i in range(1, setMax+1):\n",
    "    increTerm = 4*((-1)**(i+1)) / ((2*i) - 1)\n",
    "    pi += increTerm\n",
    "    print(f'For {i} term, pi = {pi}')"
   ]
  },
  {
   "cell_type": "code",
   "execution_count": 175,
   "id": "7d8ea8dc",
   "metadata": {},
   "outputs": [
    {
     "name": "stdout",
     "output_type": "stream",
     "text": [
      "Please input max term: 20\n",
      "For 0 term, e = 1.0\n",
      "For 1 term, e = 2.0\n",
      "For 2 term, e = 2.5\n",
      "For 3 term, e = 2.6666666666666665\n",
      "For 4 term, e = 2.708333333333333\n",
      "For 5 term, e = 2.7166666666666663\n",
      "For 6 term, e = 2.7180555555555554\n",
      "For 7 term, e = 2.7182539682539684\n",
      "For 8 term, e = 2.71827876984127\n",
      "For 9 term, e = 2.7182815255731922\n",
      "For 10 term, e = 2.7182818011463845\n",
      "For 11 term, e = 2.718281826198493\n",
      "For 12 term, e = 2.7182818282861687\n",
      "For 13 term, e = 2.7182818284467594\n",
      "For 14 term, e = 2.71828182845823\n",
      "For 15 term, e = 2.718281828458995\n",
      "For 16 term, e = 2.718281828459043\n",
      "For 17 term, e = 2.7182818284590455\n",
      "For 18 term, e = 2.7182818284590455\n",
      "For 19 term, e = 2.7182818284590455\n",
      "For 20 term, e = 2.7182818284590455\n"
     ]
    }
   ],
   "source": [
    "## 3.15: Challenge: Approximating the Mathematical Constant e\n",
    "setMax = int(input('Please input max term: '))\n",
    "e = 0\n",
    "for i in range(setMax+1):\n",
    "    if i == 0:\n",
    "        factorial = 1\n",
    "    else:\n",
    "        factorial *= i\n",
    "    e += 1/factorial\n",
    "    print(f'For {i} term, e = {e}')"
   ]
  },
  {
   "cell_type": "code",
   "execution_count": 180,
   "id": "31c709f3",
   "metadata": {},
   "outputs": [
    {
     "name": "stdout",
     "output_type": "stream",
     "text": [
      "Please input first number : 29\n",
      "Please input next number : 994\n",
      "Please input next number : 201\n",
      "Please input next number : 0202\n",
      "Please input next number : 304\n",
      "Please input next number : 2049\n",
      "Please input next number : 201\n",
      "Please input next number : 403\n",
      "Please input next number : 20\n",
      "Please input next number : 0\n",
      "Please input next number : 201\n",
      "Largest 2 numbers are: 2049 and 994\n"
     ]
    }
   ],
   "source": [
    "## 3.16: Nested control statements\n",
    "# find 2 largest values of 10 numbers entered \n",
    "for i in range(10):\n",
    "    if i == 0:\n",
    "        largest = int(input(f'Please input first number : '))\n",
    "    if i == 1:\n",
    "        largest2 = int(input(f'Please input next number : '))\n",
    "        if largest2 > largest:\n",
    "            temp = largest\n",
    "            largest = largest2\n",
    "            largest2 = temp\n",
    "    else:\n",
    "        newNum = int(input(f'Please input next number : '))\n",
    "        if newNum > largest:\n",
    "            if largest > largest2:\n",
    "                largest2 = largest\n",
    "            largest = newNum\n",
    "print(f'Largest 2 numbers are: {largest} and {largest2}')\n",
    "    "
   ]
  },
  {
   "cell_type": "code",
   "execution_count": 199,
   "id": "8fc9c23c",
   "metadata": {},
   "outputs": [
    {
     "name": "stdout",
     "output_type": "stream",
     "text": [
      "*\n",
      "**\n",
      "***\n",
      "****\n",
      "*****\n",
      "******\n",
      "*******\n",
      "********\n",
      "*********\n",
      "**********\n",
      "\n",
      "**********\n",
      "*********\n",
      "********\n",
      "*******\n",
      "******\n",
      "*****\n",
      "****\n",
      "***\n",
      "**\n",
      "*\n",
      "\n",
      "**********\n",
      " *********\n",
      "  ********\n",
      "   *******\n",
      "    ******\n",
      "     *****\n",
      "      ****\n",
      "       ***\n",
      "        **\n",
      "         *\n",
      "\n",
      "         *\n",
      "        **\n",
      "       ***\n",
      "      ****\n",
      "     *****\n",
      "    ******\n",
      "   *******\n",
      "  ********\n",
      " *********\n",
      "**********\n"
     ]
    }
   ],
   "source": [
    "## 3.17: Nested loops\n",
    "for i in range(4):\n",
    "    if i == 0:\n",
    "        for row in range(10):\n",
    "            for col in range(row+1):\n",
    "                print('*', end='')\n",
    "            print('')\n",
    "        print('')\n",
    "    elif i == 1:\n",
    "        for row in range(10):\n",
    "            for col in range(10-row):\n",
    "                print('*', end='')\n",
    "            print('')\n",
    "        print('')    \n",
    "    elif i == 2:\n",
    "        for row in range(10):\n",
    "            for col in range(row):\n",
    "                print(' ', end='')\n",
    "            for col in range(10-row):\n",
    "                print('*', end='')\n",
    "            print('')\n",
    "        print('')\n",
    "    elif i == 3:\n",
    "        for row in range(10):\n",
    "            for col in range(10-row-1):\n",
    "                print(' ', end='')\n",
    "            for col in range(row+1):\n",
    "                print('*', end='')\n",
    "            print('')"
   ]
  },
  {
   "cell_type": "code",
   "execution_count": 203,
   "id": "5a7cfb9a",
   "metadata": {},
   "outputs": [
    {
     "name": "stdout",
     "output_type": "stream",
     "text": [
      "*             **********    **********            *\n",
      "**            *********      *********           **\n",
      "***           ********        ********          ***\n",
      "****          *******          *******         ****\n",
      "*****         ******            ******        *****\n",
      "******        *****              *****       ******\n",
      "*******       ****                ****      *******\n",
      "********      ***                  ***     ********\n",
      "*********     **                    **    *********\n",
      "**********    *                      *   **********\n"
     ]
    }
   ],
   "source": [
    "## 3.18 Challenge: Nested looping\n",
    "for row in range(10):\n",
    "    for col in range(row+1):\n",
    "        print('*', end='')\n",
    "    for col in range(10-row):\n",
    "        print(' ', end='')\n",
    "    print('   ', end='')\n",
    "    \n",
    "    for col in range(10-row):\n",
    "        print('*', end='')\n",
    "    for col in range(row+1):\n",
    "        print(' ', end='')\n",
    "    print('   ', end='')\n",
    "    \n",
    "    for col in range(row):\n",
    "        print(' ', end='')\n",
    "    for col in range(10-row):\n",
    "        print('*', end='')\n",
    "    print('   ', end='')\n",
    "    \n",
    "    for col in range(10-row-1):\n",
    "        print(' ', end='')\n",
    "    for col in range(row+1):\n",
    "        print('*', end='')\n",
    "    print('')"
   ]
  },
  {
   "cell_type": "code",
   "execution_count": 206,
   "id": "7837ad1e",
   "metadata": {},
   "outputs": [
    {
     "name": "stdout",
     "output_type": "stream",
     "text": [
      "3 4 5\n",
      "4 3 5\n",
      "5 12 13\n",
      "6 8 10\n",
      "8 6 10\n",
      "8 15 17\n",
      "9 12 15\n",
      "12 5 13\n",
      "12 9 15\n",
      "12 16 20\n",
      "15 8 17\n",
      "16 12 20\n"
     ]
    }
   ],
   "source": [
    "## 3.19 Brute-force computing: pythaforean triples\n",
    "for side1 in range(1,21):\n",
    "    for side2 in range(1,21):\n",
    "        for hypo in range(1,21):\n",
    "            if (side1**2 + side2**2) == hypo**2: \n",
    "                print(side1, side2, hypo)"
   ]
  },
  {
   "cell_type": "code",
   "execution_count": 221,
   "id": "5c85af06",
   "metadata": {},
   "outputs": [
    {
     "name": "stdout",
     "output_type": "stream",
     "text": [
      "Please input a binary integer: 1101\n",
      "The decimal equivalent of 1101 is: 13\n"
     ]
    }
   ],
   "source": [
    "## 3.20 Binary-to-Decimal Conversion\n",
    "binaryInt = input('Please input a binary integer: ')\n",
    "decimal = 0\n",
    "\n",
    "binarySize = len(binaryInt)\n",
    "for i in range(binarySize):\n",
    "    decimal += int(binaryInt[i])*(2**(binarySize-i-1))\n",
    "print(f'The decimal equivalent of {binaryInt} is: {decimal}')"
   ]
  },
  {
   "cell_type": "code",
   "execution_count": 228,
   "id": "78fe7c48",
   "metadata": {},
   "outputs": [
    {
     "name": "stdout",
     "output_type": "stream",
     "text": [
      "Please input purchase price for an item (should be a dollar or less): 27\n",
      "Your change is: \n",
      "2 quarters\n",
      "2 dimes\n",
      "3 pennies\n"
     ]
    }
   ],
   "source": [
    "## 3.21 Calculate change using fewest number of coins:\n",
    "price = int(input('Please input purchase price for an item (should be a dollar or less): '))\n",
    "change = 100 - price\n",
    "# quarters: 25cents\n",
    "# dimes: 10cents\n",
    "# pennies: 1cent\n",
    "quarter = 25\n",
    "dime = 10\n",
    "penny = 1\n",
    "changeList = []\n",
    "for x in [quarter, dime, penny]:\n",
    "    changeList.append(change // x)\n",
    "    change %= x\n",
    "print(f'Your change is: \\n{changeList[0]} quarters\\n{changeList[1]} dimes\\n{changeList[2]} pennies')"
   ]
  },
  {
   "cell_type": "code",
   "execution_count": 232,
   "id": "aac70efb",
   "metadata": {},
   "outputs": [
    {
     "name": "stdout",
     "output_type": "stream",
     "text": [
      "Enter an integer (-1 to break): 28\n",
      "You entered: 28\n",
      "Enter an integer (-1 to break): 12\n",
      "You entered: 12\n",
      "The loop terminated without executing the break\n"
     ]
    }
   ],
   "source": [
    "## 3.22 Optional else Clause of a loop\n",
    "for i in range(2):\n",
    "    value = int(input('Enter an integer (-1 to break): '))\n",
    "    print('You entered:', value)\n",
    "\n",
    "    if value == -1:\n",
    "        break\n",
    "else: \n",
    "    print('The loop terminated without executing the break')"
   ]
  },
  {
   "cell_type": "code",
   "execution_count": 236,
   "id": "3fef93ba",
   "metadata": {},
   "outputs": [
    {
     "ename": "SyntaxError",
     "evalue": "invalid syntax (<ipython-input-236-80b2015b9344>, line 2)",
     "output_type": "error",
     "traceback": [
      "\u001b[0;36m  File \u001b[0;32m\"<ipython-input-236-80b2015b9344>\"\u001b[0;36m, line \u001b[0;32m2\u001b[0m\n\u001b[0;31m    python -m tabnanny /Users/shihuitan/Documents/programming/IntroToPython/examples/ch03/validate_indents.py\u001b[0m\n\u001b[0m              ^\u001b[0m\n\u001b[0;31mSyntaxError\u001b[0m\u001b[0;31m:\u001b[0m invalid syntax\n"
     ]
    }
   ],
   "source": [
    "## 3.23 Validating indentation\n",
    "##python -m tabnanny /Users/shihuitan/Documents/programming/IntroToPython/examples/ch03/validate_indents.py\n",
    "## '/Users/shihuitan/Documents/programming/IntroToPython/examples/ch03/validate_indents.py': \n",
    "##    Indentation Error: unindent does not match any outer indentation level (<tokenize>, line 6)"
   ]
  },
  {
   "cell_type": "code",
   "execution_count": 279,
   "id": "876be13e",
   "metadata": {
    "scrolled": true
   },
   "outputs": [
    {
     "name": "stdout",
     "output_type": "stream",
     "text": [
      "year  world population  increase\n",
      "   1           7.90753  0.070533\n",
      "   2           7.97870  0.071168\n",
      "   3           8.05051  0.071808\n",
      "   4           8.12296  0.072455\n",
      "   5           8.19607  0.073107\n",
      "   6           8.26983  0.073765\n",
      "   7           8.34426  0.074429\n",
      "   8           8.41936  0.075098\n",
      "   9           8.49514  0.075774\n",
      "  10           8.57159  0.076456\n",
      "  11           8.64874  0.077144\n",
      "  12           8.72658  0.077839\n",
      "  13           8.80511  0.078539\n",
      "  14           8.88436  0.079246\n",
      "  15           8.96432  0.079959\n",
      "  16           9.04500  0.080679\n",
      "  17           9.12640  0.081405\n",
      "  18           9.20854  0.082138\n",
      "  19           9.29142  0.082877\n",
      "  20           9.37504  0.083623\n",
      "  21           9.45942  0.084375\n",
      "  22           9.54455  0.085135\n",
      "  23           9.63045  0.085901\n",
      "  24           9.71713  0.086674\n",
      "  25           9.80458  0.087454\n",
      "  26           9.89282  0.088241\n",
      "  27           9.98186  0.089035\n",
      "  28          10.07169  0.089837\n",
      "  29          10.16234  0.090645\n",
      "  30          10.25380  0.091461\n",
      "  31          10.34608  0.092284\n",
      "  32          10.43920  0.093115\n",
      "  33          10.53315  0.093953\n",
      "  34          10.62795  0.094798\n",
      "  35          10.72360  0.095652\n",
      "  36          10.82011  0.096512\n",
      "  37          10.91749  0.097381\n",
      "  38          11.01575  0.098257\n",
      "  39          11.11489  0.099142\n",
      "  40          11.21493  0.100034\n",
      "  41          11.31586  0.100934\n",
      "  42          11.41771  0.101843\n",
      "  43          11.52046  0.102759\n",
      "  44          11.62415  0.103684\n",
      "  45          11.72877  0.104617\n",
      "  46          11.83433  0.105559\n",
      "  47          11.94083  0.106509\n",
      "  48          12.04830  0.107468\n",
      "  49          12.15674  0.108435\n",
      "  50          12.26615  0.109411\n",
      "  51          12.37654  0.110395\n",
      "  52          12.48793  0.111389\n",
      "  53          12.60032  0.112391\n",
      "  54          12.71373  0.113403\n",
      "  55          12.82815  0.114424\n",
      "  56          12.94360  0.115453\n",
      "  57          13.06009  0.116492\n",
      "  58          13.17764  0.117541\n",
      "  59          13.29623  0.118599\n",
      "  60          13.41590  0.119666\n",
      "  61          13.53664  0.120743\n",
      "  62          13.65847  0.121830\n",
      "  63          13.78140  0.122926\n",
      "  64          13.90543  0.124033\n",
      "  65          14.03058  0.125149\n",
      "  66          14.15686  0.126275\n",
      "  67          14.28427  0.127412\n",
      "  68          14.41283  0.128558\n",
      "  69          14.54254  0.129715\n",
      "  70          14.67342  0.130883\n",
      "  71          14.80549  0.132061\n",
      "  72          14.93873  0.133249\n",
      "  73          15.07318  0.134449\n",
      "  74          15.20884  0.135659\n",
      "  75          15.34572  0.136880\n",
      "  76          15.48383  0.138111\n",
      "  77          15.62319  0.139354\n",
      "  78          15.76380  0.140609\n",
      "  79          15.90567  0.141874\n",
      "  80          16.04882  0.143151\n",
      "  81          16.19326  0.144439\n",
      "  82          16.33900  0.145739\n",
      "  83          16.48605  0.147051\n",
      "  84          16.63443  0.148374\n",
      "  85          16.78414  0.149710\n",
      "  86          16.93519  0.151057\n",
      "  87          17.08761  0.152417\n",
      "  88          17.24140  0.153788\n",
      "  89          17.39657  0.155173\n",
      "  90          17.55314  0.156569\n",
      "  91          17.71112  0.157978\n",
      "  92          17.87052  0.159400\n",
      "  93          18.03135  0.160835\n",
      "  94          18.19363  0.162282\n",
      "  95          18.35738  0.163743\n",
      "  96          18.52259  0.165216\n",
      "  97          18.68930  0.166703\n",
      "  98          18.85750  0.168204\n",
      "  99          19.02722  0.169718\n",
      " 100          19.19846  0.171245\n"
     ]
    }
   ],
   "source": [
    "## 3.27 World population growth\n",
    "popToday = 7.837 #billion\n",
    "growthRate = 0.9/100 #percent\n",
    "print('year', 'world population', 'increase', sep='  ')\n",
    "for year in range(1, 101):\n",
    "    popOld = popToday\n",
    "    popToday *= (1+growthRate)\n",
    "    print(f'{year:>4} {popToday:>17.5f} {popToday-popOld:>9.6f}')"
   ]
  },
  {
   "cell_type": "code",
   "execution_count": 282,
   "id": "8840c331",
   "metadata": {},
   "outputs": [
    {
     "name": "stdout",
     "output_type": "stream",
     "text": [
      "23.444444444444443\n",
      "22\n",
      "22\n"
     ]
    }
   ],
   "source": [
    "## 3.28: Intro to data science: mean, median and mode\n",
    "import statistics\n",
    "values = [9, 11, 22, 34, 17, 22, 34, 22, 40]\n",
    "print(statistics.mean(values))\n",
    "print(statistics.median(values))\n",
    "print(statistics.mode(values))\n",
    "# mode will be wrong if there's another 34"
   ]
  },
  {
   "cell_type": "code",
   "execution_count": 283,
   "id": "af5d3491",
   "metadata": {},
   "outputs": [],
   "source": [
    "## 3.29 Intro to Data science: problem with the median\n",
    "# median may still be skewed"
   ]
  },
  {
   "cell_type": "code",
   "execution_count": 284,
   "id": "580cd833",
   "metadata": {},
   "outputs": [],
   "source": [
    "## 3.30 Intro to data science: outliers\n",
    "# mean"
   ]
  },
  {
   "cell_type": "code",
   "execution_count": null,
   "id": "1a714269",
   "metadata": {},
   "outputs": [],
   "source": [
    "## 3.31 Intro to data science: categorical data\n",
    "# mode will work for categorical data"
   ]
  }
 ],
 "metadata": {
  "kernelspec": {
   "display_name": "Python 3",
   "language": "python",
   "name": "python3"
  },
  "language_info": {
   "codemirror_mode": {
    "name": "ipython",
    "version": 3
   },
   "file_extension": ".py",
   "mimetype": "text/x-python",
   "name": "python",
   "nbconvert_exporter": "python",
   "pygments_lexer": "ipython3",
   "version": "3.8.8"
  }
 },
 "nbformat": 4,
 "nbformat_minor": 5
}
